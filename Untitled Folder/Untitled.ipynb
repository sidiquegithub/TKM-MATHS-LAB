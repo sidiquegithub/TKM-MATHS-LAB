{
 "cells": [
  {
   "cell_type": "code",
   "execution_count": 1,
   "id": "4c64f31e",
   "metadata": {},
   "outputs": [],
   "source": [
    "import numpy as np\n",
    "import pandas as pd\n",
    "import matplotlib.pyplot as plt"
   ]
  },
  {
   "cell_type": "code",
   "execution_count": 2,
   "id": "4c3e662e",
   "metadata": {},
   "outputs": [],
   "source": [
    "# create path for the file\n",
    "\n",
    "path = \"C:/Users/sidiq/OneDrive/Desktop/EKC/TKM/23CSA-PROBABILITY AND OPTIMISATION/SERIES 1 RESULT.csv\""
   ]
  },
  {
   "cell_type": "code",
   "execution_count": 3,
   "id": "97962a12",
   "metadata": {},
   "outputs": [],
   "source": [
    "# creating DataFrame and naming it as df\n",
    "df = pd.read_csv(path)"
   ]
  },
  {
   "cell_type": "code",
   "execution_count": 4,
   "id": "8891263f",
   "metadata": {},
   "outputs": [
    {
     "data": {
      "text/html": [
       "<div>\n",
       "<style scoped>\n",
       "    .dataframe tbody tr th:only-of-type {\n",
       "        vertical-align: middle;\n",
       "    }\n",
       "\n",
       "    .dataframe tbody tr th {\n",
       "        vertical-align: top;\n",
       "    }\n",
       "\n",
       "    .dataframe thead th {\n",
       "        text-align: right;\n",
       "    }\n",
       "</style>\n",
       "<table border=\"1\" class=\"dataframe\">\n",
       "  <thead>\n",
       "    <tr style=\"text-align: right;\">\n",
       "      <th></th>\n",
       "      <th>Roll No</th>\n",
       "      <th>UniRegNo</th>\n",
       "      <th>Name</th>\n",
       "      <th>Mark</th>\n",
       "    </tr>\n",
       "  </thead>\n",
       "  <tbody>\n",
       "    <tr>\n",
       "      <th>0</th>\n",
       "      <td>B23CSA01</td>\n",
       "      <td>TKM23CS011</td>\n",
       "      <td>A C GOVARDHAN</td>\n",
       "      <td>48</td>\n",
       "    </tr>\n",
       "    <tr>\n",
       "      <th>1</th>\n",
       "      <td>B23CSA02</td>\n",
       "      <td>TKM23CS001</td>\n",
       "      <td>AADITH J  KRISHNA N</td>\n",
       "      <td>34</td>\n",
       "    </tr>\n",
       "    <tr>\n",
       "      <th>2</th>\n",
       "      <td>B23CSA03</td>\n",
       "      <td>TKM23CS003</td>\n",
       "      <td>AARYA  TEJASWINI J</td>\n",
       "      <td>46</td>\n",
       "    </tr>\n",
       "    <tr>\n",
       "      <th>3</th>\n",
       "      <td>B23CSA04</td>\n",
       "      <td>TKM23CS004</td>\n",
       "      <td>ABHIMANUE  S</td>\n",
       "      <td>42</td>\n",
       "    </tr>\n",
       "    <tr>\n",
       "      <th>4</th>\n",
       "      <td>B23CSA05</td>\n",
       "      <td>TKM23CS006</td>\n",
       "      <td>ABHINAV  A</td>\n",
       "      <td>50</td>\n",
       "    </tr>\n",
       "    <tr>\n",
       "      <th>...</th>\n",
       "      <td>...</td>\n",
       "      <td>...</td>\n",
       "      <td>...</td>\n",
       "      <td>...</td>\n",
       "    </tr>\n",
       "    <tr>\n",
       "      <th>72</th>\n",
       "      <td>B23CSA76</td>\n",
       "      <td>NaN</td>\n",
       "      <td>MUHAMMAD  SUFIYAN S</td>\n",
       "      <td>14</td>\n",
       "    </tr>\n",
       "    <tr>\n",
       "      <th>73</th>\n",
       "      <td>B23CSA77</td>\n",
       "      <td>NaN</td>\n",
       "      <td>NIHAL  PV</td>\n",
       "      <td>36</td>\n",
       "    </tr>\n",
       "    <tr>\n",
       "      <th>74</th>\n",
       "      <td>B23CSA78</td>\n",
       "      <td>NaN</td>\n",
       "      <td>ANANTHU P S</td>\n",
       "      <td>36</td>\n",
       "    </tr>\n",
       "    <tr>\n",
       "      <th>75</th>\n",
       "      <td>B23CSA79</td>\n",
       "      <td>NaN</td>\n",
       "      <td>NISTHULA  M</td>\n",
       "      <td>18</td>\n",
       "    </tr>\n",
       "    <tr>\n",
       "      <th>76</th>\n",
       "      <td>B23CSA80</td>\n",
       "      <td>NaN</td>\n",
       "      <td>SHADIL  ABDUL MAJEED</td>\n",
       "      <td>21</td>\n",
       "    </tr>\n",
       "  </tbody>\n",
       "</table>\n",
       "<p>77 rows × 4 columns</p>\n",
       "</div>"
      ],
      "text/plain": [
       "     Roll No    UniRegNo                  Name Mark\n",
       "0   B23CSA01  TKM23CS011         A C GOVARDHAN   48\n",
       "1   B23CSA02  TKM23CS001   AADITH J  KRISHNA N   34\n",
       "2   B23CSA03  TKM23CS003    AARYA  TEJASWINI J   46\n",
       "3   B23CSA04  TKM23CS004          ABHIMANUE  S   42\n",
       "4   B23CSA05  TKM23CS006            ABHINAV  A   50\n",
       "..       ...         ...                   ...  ...\n",
       "72  B23CSA76         NaN   MUHAMMAD  SUFIYAN S   14\n",
       "73  B23CSA77         NaN           NIHAL  PV     36\n",
       "74  B23CSA78         NaN         ANANTHU P S     36\n",
       "75  B23CSA79         NaN           NISTHULA  M   18\n",
       "76  B23CSA80         NaN  SHADIL  ABDUL MAJEED   21\n",
       "\n",
       "[77 rows x 4 columns]"
      ]
     },
     "execution_count": 4,
     "metadata": {},
     "output_type": "execute_result"
    }
   ],
   "source": [
    "df"
   ]
  },
  {
   "cell_type": "code",
   "execution_count": 5,
   "id": "200fb910",
   "metadata": {},
   "outputs": [
    {
     "name": "stdout",
     "output_type": "stream",
     "text": [
      "<class 'pandas.core.frame.DataFrame'>\n",
      "RangeIndex: 77 entries, 0 to 76\n",
      "Data columns (total 4 columns):\n",
      " #   Column    Non-Null Count  Dtype \n",
      "---  ------    --------------  ----- \n",
      " 0   Roll No   77 non-null     object\n",
      " 1   UniRegNo  72 non-null     object\n",
      " 2   Name      77 non-null     object\n",
      " 3   Mark      77 non-null     object\n",
      "dtypes: object(4)\n",
      "memory usage: 2.5+ KB\n"
     ]
    }
   ],
   "source": [
    "df.info()"
   ]
  },
  {
   "cell_type": "code",
   "execution_count": 6,
   "id": "5b232a63",
   "metadata": {},
   "outputs": [
    {
     "data": {
      "text/plain": [
       "Roll No     object\n",
       "UniRegNo    object\n",
       "Name        object\n",
       "Mark        object\n",
       "dtype: object"
      ]
     },
     "execution_count": 6,
     "metadata": {},
     "output_type": "execute_result"
    }
   ],
   "source": [
    "df.dtypes"
   ]
  },
  {
   "cell_type": "code",
   "execution_count": 21,
   "id": "2c74f0a3",
   "metadata": {},
   "outputs": [],
   "source": [
    "# converting marks into numeric datatype (why?)\n",
    "df['Mark'] = pd.to_numeric(df['Mark'], errors='coerce')"
   ]
  },
  {
   "cell_type": "code",
   "execution_count": 8,
   "id": "a1cf7c6e",
   "metadata": {},
   "outputs": [
    {
     "data": {
      "text/plain": [
       "Roll No      object\n",
       "UniRegNo     object\n",
       "Name         object\n",
       "Mark        float64\n",
       "dtype: object"
      ]
     },
     "execution_count": 8,
     "metadata": {},
     "output_type": "execute_result"
    }
   ],
   "source": [
    "df.dtypes"
   ]
  },
  {
   "cell_type": "code",
   "execution_count": 9,
   "id": "a23aed50",
   "metadata": {},
   "outputs": [
    {
     "name": "stdout",
     "output_type": "stream",
     "text": [
      "<class 'pandas.core.frame.DataFrame'>\n",
      "RangeIndex: 77 entries, 0 to 76\n",
      "Data columns (total 4 columns):\n",
      " #   Column    Non-Null Count  Dtype  \n",
      "---  ------    --------------  -----  \n",
      " 0   Roll No   77 non-null     object \n",
      " 1   UniRegNo  72 non-null     object \n",
      " 2   Name      77 non-null     object \n",
      " 3   Mark      76 non-null     float64\n",
      "dtypes: float64(1), object(3)\n",
      "memory usage: 2.5+ KB\n"
     ]
    }
   ],
   "source": [
    "df.info()"
   ]
  },
  {
   "cell_type": "markdown",
   "id": "7651495f",
   "metadata": {},
   "source": [
    "### There is a NaN or missing value "
   ]
  },
  {
   "cell_type": "code",
   "execution_count": 11,
   "id": "5c60fe6a",
   "metadata": {},
   "outputs": [
    {
     "name": "stdout",
     "output_type": "stream",
     "text": [
      "    Roll No    UniRegNo     Name  Mark\n",
      "8  B23CSA09  TKM23CS017  AFRA  S   NaN\n"
     ]
    }
   ],
   "source": [
    "# Identify NaN rows in column 'A'\n",
    "nan_rows = df[df['Mark'].isna()]\n",
    "\n",
    "print(nan_rows)"
   ]
  },
  {
   "cell_type": "code",
   "execution_count": 12,
   "id": "eec2a1e8",
   "metadata": {},
   "outputs": [],
   "source": [
    "# The msissing value corresponds to AFRA who was absent for the exam"
   ]
  },
  {
   "cell_type": "code",
   "execution_count": 13,
   "id": "9f6232ef",
   "metadata": {
    "scrolled": true
   },
   "outputs": [
    {
     "data": {
      "text/plain": [
       "38.13157894736842"
      ]
     },
     "execution_count": 13,
     "metadata": {},
     "output_type": "execute_result"
    }
   ],
   "source": [
    "df['Mark'].mean()"
   ]
  },
  {
   "cell_type": "code",
   "execution_count": 14,
   "id": "289a8ea6",
   "metadata": {},
   "outputs": [
    {
     "data": {
      "text/plain": [
       "42.5"
      ]
     },
     "execution_count": 14,
     "metadata": {},
     "output_type": "execute_result"
    }
   ],
   "source": [
    "df['Mark'].median()"
   ]
  },
  {
   "cell_type": "code",
   "execution_count": 15,
   "id": "b2b4210c",
   "metadata": {},
   "outputs": [
    {
     "data": {
      "text/plain": [
       "0    46.0\n",
       "dtype: float64"
      ]
     },
     "execution_count": 15,
     "metadata": {},
     "output_type": "execute_result"
    }
   ],
   "source": [
    "df['Mark'].mode()"
   ]
  },
  {
   "cell_type": "code",
   "execution_count": 16,
   "id": "01a42b1c",
   "metadata": {},
   "outputs": [
    {
     "data": {
      "image/png": "[encoded data removed]",
      "text/plain": [
       "<Figure size 640x480 with 1 Axes>"
      ]
     },
     "metadata": {},
     "output_type": "display_data"
    }
   ],
   "source": [
    "df['Mark'].plot.density()\n",
    "plt.show()"
   ]
  },
  {
   "cell_type": "markdown",
   "id": "0f34579f",
   "metadata": {},
   "source": [
    "------------------\n",
    "-------------------\n",
    "### To fill missing mark with median value 42.5"
   ]
  },
  {
   "cell_type": "code",
   "execution_count": 18,
   "id": "e817a7f4",
   "metadata": {},
   "outputs": [],
   "source": [
    "df['Mark'] = df['Mark'].fillna(42.5)"
   ]
  },
  {
   "cell_type": "code",
   "execution_count": 20,
   "id": "0cf13b33",
   "metadata": {},
   "outputs": [
    {
     "data": {
      "text/plain": [
       "Roll No       B23CSA09\n",
       "UniRegNo    TKM23CS017\n",
       "Name           AFRA  S\n",
       "Mark              42.5\n",
       "Name: 8, dtype: object"
      ]
     },
     "execution_count": 20,
     "metadata": {},
     "output_type": "execute_result"
    }
   ],
   "source": [
    "# To check the updated mark\n",
    "df.iloc[8]"
   ]
  },
  {
   "cell_type": "code",
   "execution_count": null,
   "id": "bac148f2",
   "metadata": {
    "scrolled": true
   },
   "outputs": [],
   "source": []
  },
  {
   "cell_type": "code",
   "execution_count": null,
   "id": "b9506a07",
   "metadata": {},
   "outputs": [],
   "source": []
  }
 ],
 "metadata": {
  "kernelspec": {
   "display_name": "Python 3 (ipykernel)",
   "language": "python",
   "name": "python3"
  },
  "language_info": {
   "codemirror_mode": {
    "name": "ipython",
    "version": 3
   },
   "file_extension": ".py",
   "mimetype": "text/x-python",
   "name": "python",
   "nbconvert_exporter": "python",
   "pygments_lexer": "ipython3",
   "version": "3.7.15"
  }
 },
 "nbformat": 4,
 "nbformat_minor": 5
}
