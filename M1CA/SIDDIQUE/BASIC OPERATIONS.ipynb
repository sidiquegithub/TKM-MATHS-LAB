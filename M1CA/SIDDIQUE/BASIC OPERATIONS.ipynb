{
 "cells": [
  {
   "cell_type": "code",
   "execution_count": 2,
   "id": "edf67f9d",
   "metadata": {},
   "outputs": [],
   "source": [
    "# M1 C"
   ]
  },
  {
   "cell_type": "markdown",
   "id": "56cbde57",
   "metadata": {},
   "source": [
    "## ADDITION"
   ]
  },
  {
   "cell_type": "code",
   "execution_count": 1,
   "id": "43a15861",
   "metadata": {
    "scrolled": true
   },
   "outputs": [
    {
     "data": {
      "text/plain": [
       "8"
      ]
     },
     "execution_count": 1,
     "metadata": {},
     "output_type": "execute_result"
    }
   ],
   "source": [
    "3+5"
   ]
  },
  {
   "cell_type": "markdown",
   "id": "5149330d",
   "metadata": {},
   "source": [
    "## SUBTRACTION"
   ]
  },
  {
   "cell_type": "code",
   "execution_count": 2,
   "id": "6ef473be",
   "metadata": {},
   "outputs": [
    {
     "data": {
      "text/plain": [
       "-3"
      ]
     },
     "execution_count": 2,
     "metadata": {},
     "output_type": "execute_result"
    }
   ],
   "source": [
    "3-6"
   ]
  },
  {
   "cell_type": "markdown",
   "id": "58b73778",
   "metadata": {},
   "source": [
    "MULTIPLICATION"
   ]
  },
  {
   "cell_type": "code",
   "execution_count": 3,
   "id": "56e85a7b",
   "metadata": {},
   "outputs": [
    {
     "data": {
      "text/plain": [
       "35"
      ]
     },
     "execution_count": 3,
     "metadata": {},
     "output_type": "execute_result"
    }
   ],
   "source": [
    "5*7"
   ]
  },
  {
   "cell_type": "markdown",
   "id": "3d228d7a",
   "metadata": {},
   "source": [
    "DIVISION"
   ]
  },
  {
   "cell_type": "code",
   "execution_count": 8,
   "id": "e7df4e40",
   "metadata": {},
   "outputs": [
    {
     "data": {
      "text/plain": [
       "4.0"
      ]
     },
     "execution_count": 8,
     "metadata": {},
     "output_type": "execute_result"
    }
   ],
   "source": [
    "8/2"
   ]
  },
  {
   "cell_type": "markdown",
   "id": "68a6ffbf",
   "metadata": {},
   "source": [
    "REMINDER"
   ]
  },
  {
   "cell_type": "code",
   "execution_count": 7,
   "id": "3a20c4b5",
   "metadata": {},
   "outputs": [
    {
     "data": {
      "text/plain": [
       "0"
      ]
     },
     "execution_count": 7,
     "metadata": {},
     "output_type": "execute_result"
    }
   ],
   "source": [
    "8%2"
   ]
  },
  {
   "cell_type": "markdown",
   "id": "41482699",
   "metadata": {},
   "source": [
    "# 1) Using if, print Yes, if given number is even, otherwise print No"
   ]
  },
  {
   "cell_type": "code",
   "execution_count": 9,
   "id": "21329ad8",
   "metadata": {},
   "outputs": [
    {
     "name": "stdout",
     "output_type": "stream",
     "text": [
      "Yes\n"
     ]
    }
   ],
   "source": [
    "x=6\n",
    "if x %2 ==0: \n",
    "    print(\"Yes\")\n",
    "else:\n",
    "    print(\"No\")"
   ]
  },
  {
   "cell_type": "markdown",
   "id": "e09a6e32",
   "metadata": {},
   "source": [
    "# USER DEFINED FUNCTION"
   ]
  },
  {
   "cell_type": "code",
   "execution_count": 12,
   "id": "aa281475",
   "metadata": {},
   "outputs": [],
   "source": [
    "def addition(u,v):\n",
    "    z = u + v\n",
    "    print(f\"Sum is {z}\")"
   ]
  },
  {
   "cell_type": "code",
   "execution_count": 13,
   "id": "f6dd8c69",
   "metadata": {},
   "outputs": [
    {
     "name": "stdout",
     "output_type": "stream",
     "text": [
      "Sum is 12\n"
     ]
    }
   ],
   "source": [
    "addition(5,7)"
   ]
  },
  {
   "cell_type": "code",
   "execution_count": 14,
   "id": "60728769",
   "metadata": {},
   "outputs": [
    {
     "name": "stdout",
     "output_type": "stream",
     "text": [
      "Sum is 5698214487889482\n"
     ]
    }
   ],
   "source": [
    "addition(4250,5698214487885232)"
   ]
  },
  {
   "cell_type": "markdown",
   "id": "0f8cb7b3",
   "metadata": {},
   "source": [
    "# Define a function that print square of a number if the number is even, or print half if the number os odd"
   ]
  },
  {
   "cell_type": "code",
   "execution_count": 18,
   "id": "7f4f10af",
   "metadata": {},
   "outputs": [],
   "source": [
    "def oddeven(u):\n",
    "    if u%2==0:\n",
    "        print(f'{u**2}')\n",
    "    else:\n",
    "        print(f'{u/2}')"
   ]
  },
  {
   "cell_type": "code",
   "execution_count": 17,
   "id": "f776a030",
   "metadata": {},
   "outputs": [
    {
     "name": "stdout",
     "output_type": "stream",
     "text": [
      "4\n"
     ]
    }
   ],
   "source": [
    "oddeven(2)"
   ]
  },
  {
   "cell_type": "code",
   "execution_count": 1,
   "id": "dd4f084c",
   "metadata": {},
   "outputs": [],
   "source": [
    "def operations(x,y):\n",
    "    z = x+y\n",
    "    w = x-y\n",
    "    return z,w"
   ]
  },
  {
   "cell_type": "code",
   "execution_count": null,
   "id": "00aaed2d",
   "metadata": {},
   "outputs": [],
   "source": [
    "s,r = operations(2,8)\n",
    "print(s)\n",
    "print(r)"
   ]
  },
  {
   "cell_type": "markdown",
   "id": "d1d26747",
   "metadata": {},
   "source": [
    "# List"
   ]
  },
  {
   "cell_type": "code",
   "execution_count": 19,
   "id": "00cf5ef9",
   "metadata": {},
   "outputs": [],
   "source": [
    "#creating a list \n",
    "List_1 = [1,2,8,900,'Apple']\n",
    "List_2 = [30,45,67,\"Orange\"]"
   ]
  },
  {
   "cell_type": "code",
   "execution_count": 20,
   "id": "d66d3f25",
   "metadata": {},
   "outputs": [
    {
     "data": {
      "text/plain": [
       "1"
      ]
     },
     "execution_count": 20,
     "metadata": {},
     "output_type": "execute_result"
    }
   ],
   "source": [
    "# printing elements\n",
    "List_1[0]"
   ]
  },
  {
   "cell_type": "code",
   "execution_count": 21,
   "id": "df9ef825",
   "metadata": {},
   "outputs": [
    {
     "name": "stdout",
     "output_type": "stream",
     "text": [
      "5\n",
      "4\n"
     ]
    }
   ],
   "source": [
    "#Length of lists\n",
    "print(len(List_1))\n",
    "print(len(List_2))"
   ]
  },
  {
   "cell_type": "code",
   "execution_count": 22,
   "id": "96215558",
   "metadata": {},
   "outputs": [
    {
     "name": "stdout",
     "output_type": "stream",
     "text": [
      "31\n",
      "32\n"
     ]
    }
   ],
   "source": [
    "# Element wise addition\n",
    "print(List_1[0] + List_2[0])\n",
    "print(List_1[1]+List_2[0])"
   ]
  },
  {
   "cell_type": "code",
   "execution_count": 23,
   "id": "6d24361b",
   "metadata": {},
   "outputs": [
    {
     "data": {
      "text/plain": [
       "'AppleOrange'"
      ]
     },
     "execution_count": 23,
     "metadata": {},
     "output_type": "execute_result"
    }
   ],
   "source": [
    "#Concatenation\n",
    "List_1[4]+List_2[3]"
   ]
  },
  {
   "cell_type": "code",
   "execution_count": 24,
   "id": "3158af99",
   "metadata": {},
   "outputs": [
    {
     "name": "stdout",
     "output_type": "stream",
     "text": [
      "[1, 2, 8, 900, 'Apple', 7]\n"
     ]
    }
   ],
   "source": [
    "# .append function\n",
    "\n",
    "List_1.append(7)\n",
    "print(List_1)"
   ]
  },
  {
   "cell_type": "code",
   "execution_count": 25,
   "id": "b6dd8ba1",
   "metadata": {
    "scrolled": true
   },
   "outputs": [
    {
     "name": "stdout",
     "output_type": "stream",
     "text": [
      "[1, 2, 8, 900, 'Apple', 7]\n"
     ]
    }
   ],
   "source": [
    "List_1.append\n",
    "print(List_1)"
   ]
  },
  {
   "cell_type": "code",
   "execution_count": 27,
   "id": "be3d73b1",
   "metadata": {},
   "outputs": [
    {
     "name": "stdout",
     "output_type": "stream",
     "text": [
      "[6, 11, 13, 0]\n"
     ]
    }
   ],
   "source": [
    "#Creating Lists\n",
    "A = [3,5,6,9]\n",
    "B = [3,6,7,-9]\n",
    "\n",
    "\n",
    "# Creating empty list\n",
    "C =[]\n",
    "\n",
    "# using for loop to append\n",
    "for i in range(4):\n",
    "    C.append(A[i]+B[i])\n",
    "print(C)"
   ]
  },
  {
   "cell_type": "code",
   "execution_count": 28,
   "id": "f018b59e",
   "metadata": {},
   "outputs": [
    {
     "name": "stdout",
     "output_type": "stream",
     "text": [
      "[6, 11, 13, 0]\n"
     ]
    }
   ],
   "source": [
    "#Creating Lists\n",
    "A = [3,5,6,9]\n",
    "B = [3,6,7,-9]\n",
    "\n",
    "\n",
    "# Creating empty list\n",
    "C =[]\n",
    "\n",
    "# using for loop to append\n",
    "for i in range(len(A)):\n",
    "    C.append(A[i]+B[i])\n",
    "print(C)"
   ]
  },
  {
   "cell_type": "markdown",
   "id": "0496e505",
   "metadata": {},
   "source": [
    "# For Loop"
   ]
  },
  {
   "cell_type": "code",
   "execution_count": 8,
   "id": "966c4ed5",
   "metadata": {},
   "outputs": [],
   "source": [
    "#Creatinig a list\n",
    "A = [1,2,3,7]"
   ]
  },
  {
   "cell_type": "code",
   "execution_count": 9,
   "id": "02da7b80",
   "metadata": {},
   "outputs": [
    {
     "name": "stdout",
     "output_type": "stream",
     "text": [
      "1\n",
      "2\n",
      "3\n",
      "7\n"
     ]
    }
   ],
   "source": [
    "# For loop\n",
    "for i in A:\n",
    "    print(i)"
   ]
  },
  {
   "cell_type": "markdown",
   "id": "f3e4611f",
   "metadata": {},
   "source": [
    "# Create a list from 5 to 11 (integer) and using for loop find its square"
   ]
  },
  {
   "cell_type": "code",
   "execution_count": 12,
   "id": "6d34da4b",
   "metadata": {},
   "outputs": [
    {
     "name": "stdout",
     "output_type": "stream",
     "text": [
      "25\n",
      "36\n",
      "49\n",
      "64\n",
      "81\n",
      "100\n",
      "121\n"
     ]
    }
   ],
   "source": [
    "M=[5,6,7,8,9,10,11]\n",
    "for j in M:\n",
    "    print(j**2)"
   ]
  },
  {
   "cell_type": "markdown",
   "id": "cc7f9248",
   "metadata": {},
   "source": [
    "# print squares from 0 to 20"
   ]
  },
  {
   "cell_type": "code",
   "execution_count": 14,
   "id": "b835a85c",
   "metadata": {},
   "outputs": [
    {
     "name": "stdout",
     "output_type": "stream",
     "text": [
      "0\n",
      "1\n",
      "4\n",
      "9\n",
      "16\n",
      "25\n",
      "36\n",
      "49\n",
      "64\n",
      "81\n",
      "100\n",
      "121\n",
      "144\n",
      "169\n",
      "196\n",
      "225\n",
      "256\n",
      "289\n",
      "324\n",
      "361\n",
      "400\n"
     ]
    }
   ],
   "source": [
    "for k in range(21):\n",
    "    print(k**2)"
   ]
  },
  {
   "cell_type": "code",
   "execution_count": 15,
   "id": "384aff42",
   "metadata": {},
   "outputs": [
    {
     "name": "stdout",
     "output_type": "stream",
     "text": [
      "121\n",
      "144\n",
      "169\n",
      "196\n",
      "225\n",
      "256\n",
      "289\n",
      "324\n",
      "361\n",
      "400\n",
      "441\n",
      "484\n",
      "529\n",
      "576\n",
      "625\n",
      "676\n"
     ]
    }
   ],
   "source": [
    "for n in range(11,27):\n",
    "    print(n**2)"
   ]
  },
  {
   "cell_type": "code",
   "execution_count": null,
   "id": "637f2e74",
   "metadata": {},
   "outputs": [],
   "source": []
  },
  {
   "cell_type": "markdown",
   "id": "17a48793",
   "metadata": {},
   "source": [
    "## NUMPY"
   ]
  },
  {
   "cell_type": "code",
   "execution_count": 25,
   "id": "4b3b7793",
   "metadata": {},
   "outputs": [
    {
     "name": "stdout",
     "output_type": "stream",
     "text": [
      "Matrix A=  [[1 3 6]]\n",
      "Matrix B=  [[2 8 9]]\n"
     ]
    },
    {
     "data": {
      "text/plain": [
       "(1, 3)"
      ]
     },
     "execution_count": 25,
     "metadata": {},
     "output_type": "execute_result"
    }
   ],
   "source": [
    "#Numpy\n",
    "import numpy as np\n",
    "A=np.array([[1,3,6]])\n",
    "B=np.array([[2,8,9]])\n",
    "print(\"Matrix A= \",A)\n",
    "print(\"Matrix B= \",B)\n",
    "A.shape\n"
   ]
  },
  {
   "cell_type": "code",
   "execution_count": 29,
   "id": "a3ac40b5",
   "metadata": {},
   "outputs": [
    {
     "name": "stdout",
     "output_type": "stream",
     "text": [
      "Sum of A and B =  [[ 3 11 15]]\n",
      "Difference of A and B =  [[-1 -5 -3]]\n"
     ]
    }
   ],
   "source": [
    "#Matrix Addition, Multiplication \n",
    "\n",
    "sum_AB= np.add(A,B)\n",
    "Diff_AB=np.subtract(A,B)\n",
    "print(\"Sum of A and B = \", sum_AB)\n",
    "print(\"Difference of A and B = \", Diff_AB)"
   ]
  },
  {
   "cell_type": "code",
   "execution_count": 30,
   "id": "915f3c8d",
   "metadata": {},
   "outputs": [],
   "source": [
    "# write two 2x2 matrix and find sum and product of matrices"
   ]
  },
  {
   "cell_type": "code",
   "execution_count": 39,
   "id": "4b2391e4",
   "metadata": {},
   "outputs": [
    {
     "name": "stdout",
     "output_type": "stream",
     "text": [
      "A = \n",
      " [[1 2]\n",
      " [4 8]]\n",
      "B = \n",
      " [[3 2]\n",
      " [4 1]]\n",
      "A*B= [[11  4]\n",
      " [44 16]]\n"
     ]
    }
   ],
   "source": [
    "A=np.array([[1,2],[4,8]])\n",
    "print(\"A = \\n\",A)\n",
    "B=np.array([[3,2],[4,1]])\n",
    "print(\"B = \\n\",B)\n",
    "product_AB=np.dot(A,B)\n",
    "print(\"A*B=\",product_AB)"
   ]
  },
  {
   "cell_type": "code",
   "execution_count": 45,
   "id": "50113b51",
   "metadata": {},
   "outputs": [
    {
     "name": "stdout",
     "output_type": "stream",
     "text": [
      "A=\n",
      " [[ 2  1  3  4]\n",
      " [ 0 -1  2  1]\n",
      " [ 3  2  0  5]\n",
      " [-1  3  2  1]]\n",
      "determinant = 35\n"
     ]
    }
   ],
   "source": [
    "#Determinant \n",
    "A=np.array([[2,1,3,4],[0,-1,2,1],[3,2,0,5],[-1,3,2,1]])\n",
    "print(\"A=\\n\",A)\n",
    "det=np.linalg.det(A)\n",
    "print(\"determinant =\",round(det))"
   ]
  },
  {
   "cell_type": "code",
   "execution_count": 48,
   "id": "af18cae5",
   "metadata": {},
   "outputs": [
    {
     "name": "stdout",
     "output_type": "stream",
     "text": [
      "inverse of A\n",
      " = [[ 4.  -1.5]\n",
      " [-1.   0.5]]\n"
     ]
    }
   ],
   "source": [
    "B=np.array([[1,3],[2,8]])\n",
    "inverse=np.linalg.inv(B)\n",
    "print(\"inverse of A\\n =\",inverse)"
   ]
  },
  {
   "cell_type": "code",
   "execution_count": null,
   "id": "23a433c6",
   "metadata": {},
   "outputs": [],
   "source": []
  }
 ],
 "metadata": {
  "kernelspec": {
   "display_name": "Python 3 (ipykernel)",
   "language": "python",
   "name": "python3"
  },
  "language_info": {
   "codemirror_mode": {
    "name": "ipython",
    "version": 3
   },
   "file_extension": ".py",
   "mimetype": "text/x-python",
   "name": "python",
   "nbconvert_exporter": "python",
   "pygments_lexer": "ipython3",
   "version": "3.7.15"
  }
 },
 "nbformat": 4,
 "nbformat_minor": 5
}
