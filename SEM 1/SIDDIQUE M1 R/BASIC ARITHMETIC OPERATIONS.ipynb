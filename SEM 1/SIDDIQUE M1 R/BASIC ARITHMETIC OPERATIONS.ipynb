{
 "cells": [
  {
   "cell_type": "code",
   "execution_count": 1,
   "id": "a03a5db7",
   "metadata": {},
   "outputs": [],
   "source": [
    "# M1 A"
   ]
  },
  {
   "cell_type": "markdown",
   "id": "3f52ef52",
   "metadata": {},
   "source": [
    "## ADDITION"
   ]
  },
  {
   "cell_type": "code",
   "execution_count": 1,
   "id": "d535772c",
   "metadata": {},
   "outputs": [
    {
     "data": {
      "text/plain": [
       "5"
      ]
     },
     "execution_count": 1,
     "metadata": {},
     "output_type": "execute_result"
    }
   ],
   "source": [
    "3+2"
   ]
  },
  {
   "cell_type": "markdown",
   "id": "8c8b094a",
   "metadata": {},
   "source": [
    "## MULTIPLICATION"
   ]
  },
  {
   "cell_type": "code",
   "execution_count": 2,
   "id": "9aa45e89",
   "metadata": {},
   "outputs": [
    {
     "data": {
      "text/plain": [
       "16"
      ]
     },
     "execution_count": 2,
     "metadata": {},
     "output_type": "execute_result"
    }
   ],
   "source": [
    "2*8"
   ]
  },
  {
   "cell_type": "markdown",
   "id": "6dd0ecd4",
   "metadata": {},
   "source": [
    "## SUBTRACTION"
   ]
  },
  {
   "cell_type": "code",
   "execution_count": 3,
   "id": "329020e5",
   "metadata": {},
   "outputs": [
    {
     "data": {
      "text/plain": [
       "1"
      ]
     },
     "execution_count": 3,
     "metadata": {},
     "output_type": "execute_result"
    }
   ],
   "source": [
    "3-2"
   ]
  },
  {
   "cell_type": "markdown",
   "id": "85cb03b8",
   "metadata": {},
   "source": [
    "## DIVISION"
   ]
  },
  {
   "cell_type": "code",
   "execution_count": 4,
   "id": "7fb47a5c",
   "metadata": {},
   "outputs": [
    {
     "data": {
      "text/plain": [
       "1.4"
      ]
     },
     "execution_count": 4,
     "metadata": {},
     "output_type": "execute_result"
    }
   ],
   "source": [
    "7/5"
   ]
  },
  {
   "cell_type": "markdown",
   "id": "5af29682",
   "metadata": {},
   "source": [
    "## REMINDER"
   ]
  },
  {
   "cell_type": "code",
   "execution_count": 5,
   "id": "8a2976f7",
   "metadata": {},
   "outputs": [
    {
     "data": {
      "text/plain": [
       "1"
      ]
     },
     "execution_count": 5,
     "metadata": {},
     "output_type": "execute_result"
    }
   ],
   "source": [
    "10%3"
   ]
  },
  {
   "cell_type": "markdown",
   "id": "5a300b05",
   "metadata": {},
   "source": [
    "Sum of threee anad two is 3+2"
   ]
  },
  {
   "cell_type": "markdown",
   "id": "0fb662b4",
   "metadata": {},
   "source": [
    "## Using if condition print yes if sum of two numbers is 0, otherwise print No"
   ]
  },
  {
   "cell_type": "code",
   "execution_count": 6,
   "id": "7e8b8f44",
   "metadata": {},
   "outputs": [
    {
     "name": "stdout",
     "output_type": "stream",
     "text": [
      "No\n"
     ]
    }
   ],
   "source": [
    "x= 7\n",
    "y= 9\n",
    "if x+y == 0:\n",
    "    print(\"Yes\")\n",
    "else:\n",
    "    print(\"No\")\n"
   ]
  },
  {
   "cell_type": "markdown",
   "id": "d7245872",
   "metadata": {},
   "source": [
    "## Using if conditon and % print Yes if given number is even, otherwise print No"
   ]
  },
  {
   "cell_type": "code",
   "execution_count": 3,
   "id": "d8c9a985",
   "metadata": {},
   "outputs": [
    {
     "name": "stdout",
     "output_type": "stream",
     "text": [
      "Yes\n"
     ]
    }
   ],
   "source": [
    "x= 4\n",
    "if x %2 ==0:\n",
    "    print(\"Yes\")\n",
    "else:\n",
    "    print(\"No\")"
   ]
  },
  {
   "cell_type": "markdown",
   "id": "14f65abd",
   "metadata": {},
   "source": [
    "# USER DEFINED FUNCTION"
   ]
  },
  {
   "cell_type": "markdown",
   "id": "43c99646",
   "metadata": {},
   "source": [
    "1) Create a user defined function that takes two random numbers and gives its sum.\n"
   ]
  },
  {
   "cell_type": "code",
   "execution_count": 7,
   "id": "460a64e9",
   "metadata": {},
   "outputs": [],
   "source": [
    "def addition(u,v):\n",
    "    z = u+v \n",
    "    print(f\"sum of {u} and {v} is {z}\")"
   ]
  },
  {
   "cell_type": "code",
   "execution_count": 8,
   "id": "8d398256",
   "metadata": {},
   "outputs": [
    {
     "name": "stdout",
     "output_type": "stream",
     "text": [
      "sum of 5 and 7 is 12\n"
     ]
    }
   ],
   "source": [
    "addition(5,7)"
   ]
  },
  {
   "cell_type": "code",
   "execution_count": 9,
   "id": "4b4af448",
   "metadata": {},
   "outputs": [
    {
     "name": "stdout",
     "output_type": "stream",
     "text": [
      "sum of 520 and 890 is 1410\n"
     ]
    }
   ],
   "source": [
    "addition(520,890)"
   ]
  },
  {
   "cell_type": "markdown",
   "id": "fb754b02",
   "metadata": {},
   "source": [
    "## 1) Define a user defined function with name operation, which takes two input and gives all the 5 oprations."
   ]
  },
  {
   "cell_type": "code",
   "execution_count": null,
   "id": "04848805",
   "metadata": {},
   "outputs": [],
   "source": []
  },
  {
   "cell_type": "markdown",
   "id": "83181409",
   "metadata": {},
   "source": [
    "## 2) Define a function which take a number and prodce its square if it is even, and produce its half if it is odd"
   ]
  },
  {
   "cell_type": "code",
   "execution_count": 1,
   "id": "442e23cf",
   "metadata": {},
   "outputs": [],
   "source": [
    "def odd_even(u):\n",
    "    if x%2 == 0:\n",
    "        print(\"Number is even\")\n",
    "        print(\"Its square is \", x**2)\n",
    "    else:\n",
    "        print(\"Number is odd\")\n",
    "        print(\"Half of the number is\", x/2)"
   ]
  },
  {
   "cell_type": "markdown",
   "id": "e4e05b9d",
   "metadata": {},
   "source": [
    "## USER DEFINED FUNCTIONS WITH  return VALUES"
   ]
  },
  {
   "cell_type": "code",
   "execution_count": 10,
   "id": "90b16bc1",
   "metadata": {},
   "outputs": [],
   "source": [
    "def addition(x,y):\n",
    "    z = x +y\n",
    "    return z"
   ]
  },
  {
   "cell_type": "code",
   "execution_count": 11,
   "id": "5b88858f",
   "metadata": {},
   "outputs": [
    {
     "data": {
      "text/plain": [
       "5"
      ]
     },
     "execution_count": 11,
     "metadata": {},
     "output_type": "execute_result"
    }
   ],
   "source": [
    "addition(2,3)"
   ]
  },
  {
   "cell_type": "code",
   "execution_count": null,
   "id": "24965d1c",
   "metadata": {},
   "outputs": [],
   "source": []
  },
  {
   "cell_type": "markdown",
   "id": "bace0aa0",
   "metadata": {},
   "source": [
    "# importance of NUMPY module in python"
   ]
  },
  {
   "cell_type": "code",
   "execution_count": null,
   "id": "d2a5de0b",
   "metadata": {},
   "outputs": [],
   "source": []
  }
 ],
 "metadata": {
  "kernelspec": {
   "display_name": "Python 3 (ipykernel)",
   "language": "python",
   "name": "python3"
  },
  "language_info": {
   "codemirror_mode": {
    "name": "ipython",
    "version": 3
   },
   "file_extension": ".py",
   "mimetype": "text/x-python",
   "name": "python",
   "nbconvert_exporter": "python",
   "pygments_lexer": "ipython3",
   "version": "3.7.15"
  }
 },
 "nbformat": 4,
 "nbformat_minor": 5
}
