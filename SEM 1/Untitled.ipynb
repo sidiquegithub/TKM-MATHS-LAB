{
 "cells": [
  {
   "cell_type": "markdown",
   "id": "9dbcc01a",
   "metadata": {},
   "source": [
    "## <font color = Blue> Basic Mathematics operation in python"
   ]
  },
  {
   "cell_type": "code",
   "execution_count": null,
   "id": "25ce9d42",
   "metadata": {},
   "outputs": [],
   "source": [
    "3-80"
   ]
  },
  {
   "cell_type": "markdown",
   "id": "7de651b3",
   "metadata": {},
   "source": [
    "## <font color = blue> print function"
   ]
  },
  {
   "cell_type": "markdown",
   "id": "1d74bedd",
   "metadata": {},
   "source": [
    "### print(\"___________\")   \n",
    "\n",
    "### print()"
   ]
  },
  {
   "cell_type": "code",
   "execution_count": 2,
   "id": "8bbcf539",
   "metadata": {},
   "outputs": [
    {
     "name": "stdout",
     "output_type": "stream",
     "text": [
      "Hello\n"
     ]
    }
   ],
   "source": [
    "print(\"Hello\")"
   ]
  },
  {
   "cell_type": "code",
   "execution_count": 3,
   "id": "ce59c6c8",
   "metadata": {},
   "outputs": [
    {
     "name": "stdout",
     "output_type": "stream",
     "text": [
      "My name is siddique\n"
     ]
    }
   ],
   "source": [
    "print('My name is siddique')"
   ]
  },
  {
   "cell_type": "code",
   "execution_count": 12,
   "id": "82204417",
   "metadata": {},
   "outputs": [
    {
     "name": "stdout",
     "output_type": "stream",
     "text": [
      "We are Royal Mech\n"
     ]
    }
   ],
   "source": [
    "print(\"We are Royal Mech\")"
   ]
  },
  {
   "cell_type": "markdown",
   "id": "584283a6",
   "metadata": {},
   "source": [
    "## <font color = blue> Character and Integers"
   ]
  },
  {
   "cell_type": "code",
   "execution_count": 5,
   "id": "71325201",
   "metadata": {},
   "outputs": [
    {
     "name": "stdout",
     "output_type": "stream",
     "text": [
      "3+5\n"
     ]
    }
   ],
   "source": [
    "print('3+5')"
   ]
  },
  {
   "cell_type": "code",
   "execution_count": 22,
   "id": "343f1f8d",
   "metadata": {},
   "outputs": [
    {
     "name": "stdout",
     "output_type": "stream",
     "text": [
      "8\n"
     ]
    }
   ],
   "source": [
    "print(3+5)"
   ]
  },
  {
   "cell_type": "markdown",
   "id": "3b5d2853",
   "metadata": {},
   "source": [
    "## <font color = blue> Variables"
   ]
  },
  {
   "cell_type": "code",
   "execution_count": 24,
   "id": "255b05a8",
   "metadata": {},
   "outputs": [],
   "source": [
    "name = 2"
   ]
  },
  {
   "cell_type": "code",
   "execution_count": 25,
   "id": "d0473ece",
   "metadata": {},
   "outputs": [
    {
     "name": "stdout",
     "output_type": "stream",
     "text": [
      "2\n"
     ]
    }
   ],
   "source": [
    "print(name)"
   ]
  },
  {
   "cell_type": "code",
   "execution_count": 26,
   "id": "ff3a1a0f",
   "metadata": {},
   "outputs": [
    {
     "name": "stdout",
     "output_type": "stream",
     "text": [
      "10\n",
      "6\n",
      "16\n",
      "4.0\n"
     ]
    }
   ],
   "source": [
    "x = 8\n",
    "y = 2\n",
    "print(x+y)\n",
    "print(x-y)\n",
    "print(x*y)\n",
    "print(x/y)"
   ]
  },
  {
   "cell_type": "code",
   "execution_count": 27,
   "id": "858f59ab",
   "metadata": {},
   "outputs": [
    {
     "name": "stdout",
     "output_type": "stream",
     "text": [
      "12\n"
     ]
    }
   ],
   "source": [
    "number1 = 5\n",
    "number2 = 7\n",
    "print(number1+number2)"
   ]
  },
  {
   "cell_type": "code",
   "execution_count": 28,
   "id": "fe7b7e4a",
   "metadata": {
    "scrolled": true
   },
   "outputs": [
    {
     "ename": "SyntaxError",
     "evalue": "invalid syntax (560590456.py, line 1)",
     "output_type": "error",
     "traceback": [
      "\u001b[1;36m  File \u001b[1;32m\"C:\\Users\\sidiq\\AppData\\Local\\Temp\\ipykernel_28780\\560590456.py\"\u001b[1;36m, line \u001b[1;32m1\u001b[0m\n\u001b[1;33m    1number = 5\u001b[0m\n\u001b[1;37m          ^\u001b[0m\n\u001b[1;31mSyntaxError\u001b[0m\u001b[1;31m:\u001b[0m invalid syntax\n"
     ]
    }
   ],
   "source": [
    "1number = 5\n",
    "2number = 7\n",
    "print(1number+2number)"
   ]
  },
  {
   "cell_type": "code",
   "execution_count": 30,
   "id": "4eebc843",
   "metadata": {},
   "outputs": [
    {
     "name": "stdout",
     "output_type": "stream",
     "text": [
      "12\n"
     ]
    }
   ],
   "source": [
    "number_1 = 5\n",
    "number_2 = 7\n",
    "print(number_1+number_2)"
   ]
  },
  {
   "cell_type": "code",
   "execution_count": 39,
   "id": "9543d447",
   "metadata": {},
   "outputs": [
    {
     "name": "stdout",
     "output_type": "stream",
     "text": [
      "sum of 20 and 30 is 50\n"
     ]
    }
   ],
   "source": [
    "m = 20\n",
    "n = 30\n",
    "print(f\"sum of {m} and {n} is {m+n}\")"
   ]
  },
  {
   "cell_type": "markdown",
   "id": "dda3e33c",
   "metadata": {},
   "source": [
    "## if condition"
   ]
  },
  {
   "cell_type": "code",
   "execution_count": 58,
   "id": "f62122eb",
   "metadata": {},
   "outputs": [
    {
     "name": "stdout",
     "output_type": "stream",
     "text": [
      "I am happy\n"
     ]
    }
   ],
   "source": [
    "x = 117\n",
    "y = 250\n",
    "\n",
    "if x < y:\n",
    "    print('I am happy')"
   ]
  },
  {
   "cell_type": "code",
   "execution_count": 53,
   "id": "c3acf8c4",
   "metadata": {},
   "outputs": [
    {
     "name": "stdout",
     "output_type": "stream",
     "text": [
      "I am happy\n"
     ]
    }
   ],
   "source": [
    "if x <= y :\n",
    "    print(\"I am happy\")\n",
    "else:\n",
    "    print(\"I am not happy\")"
   ]
  },
  {
   "cell_type": "code",
   "execution_count": 57,
   "id": "99c5ad95",
   "metadata": {},
   "outputs": [
    {
     "name": "stdout",
     "output_type": "stream",
     "text": [
      "40\n"
     ]
    }
   ],
   "source": [
    "m = 20\n",
    "n = 20\n",
    "\n",
    "if m == n:\n",
    "    print(m+n)\n",
    "else:\n",
    "    print(0)"
   ]
  },
  {
   "cell_type": "markdown",
   "id": "f2adfdc8",
   "metadata": {},
   "source": [
    "## user defined functions"
   ]
  },
  {
   "cell_type": "code",
   "execution_count": null,
   "id": "78fabbf7",
   "metadata": {},
   "outputs": [],
   "source": [
    "def function_name(variables):\n",
    "    _______________\n",
    "    _______________\n",
    "    _______________\n",
    "    return "
   ]
  },
  {
   "cell_type": "code",
   "execution_count": 59,
   "id": "5ccae0bd",
   "metadata": {},
   "outputs": [],
   "source": [
    "## function that take any two numbers and give it sum "
   ]
  },
  {
   "cell_type": "code",
   "execution_count": 63,
   "id": "e8ee2f4d",
   "metadata": {},
   "outputs": [],
   "source": [
    "def sum(x,y):\n",
    "    z = x+y\n",
    "    return z"
   ]
  },
  {
   "cell_type": "code",
   "execution_count": 64,
   "id": "b0d8215e",
   "metadata": {},
   "outputs": [
    {
     "data": {
      "text/plain": [
       "92"
      ]
     },
     "execution_count": 64,
     "metadata": {},
     "output_type": "execute_result"
    }
   ],
   "source": [
    "sum(3,89)"
   ]
  },
  {
   "cell_type": "code",
   "execution_count": 65,
   "id": "3cdd2296",
   "metadata": {},
   "outputs": [
    {
     "data": {
      "text/plain": [
       "14"
      ]
     },
     "execution_count": 65,
     "metadata": {},
     "output_type": "execute_result"
    }
   ],
   "source": [
    "m = 6\n",
    "n = 8\n",
    "\n",
    "sum(m,n)"
   ]
  },
  {
   "cell_type": "code",
   "execution_count": 68,
   "id": "49276995",
   "metadata": {},
   "outputs": [],
   "source": [
    "def subtract(number_1,number_2):\n",
    "    value = number_1 - number_2\n",
    "    print(f\"Difference between {number_1} and {number_2} is {value}\")"
   ]
  },
  {
   "cell_type": "code",
   "execution_count": 69,
   "id": "c714437d",
   "metadata": {},
   "outputs": [
    {
     "name": "stdout",
     "output_type": "stream",
     "text": [
      "Difference between 100 and 10 is 90\n"
     ]
    }
   ],
   "source": [
    "subtract(100,10)"
   ]
  },
  {
   "cell_type": "code",
   "execution_count": 70,
   "id": "2d3ef43f",
   "metadata": {},
   "outputs": [],
   "source": [
    "##Take any two numbers if first number is less than or equal to second  print Yes else print no."
   ]
  },
  {
   "cell_type": "code",
   "execution_count": 72,
   "id": "4357d65a",
   "metadata": {},
   "outputs": [],
   "source": [
    "def check(x,y):\n",
    "    if x <= y:\n",
    "        print('yes')\n",
    "    else:\n",
    "        print(\"No\")"
   ]
  },
  {
   "cell_type": "code",
   "execution_count": 73,
   "id": "5857e8ab",
   "metadata": {},
   "outputs": [
    {
     "name": "stdout",
     "output_type": "stream",
     "text": [
      "yes\n"
     ]
    }
   ],
   "source": [
    "check(9,20)"
   ]
  },
  {
   "cell_type": "code",
   "execution_count": 74,
   "id": "0cda67ca",
   "metadata": {},
   "outputs": [
    {
     "name": "stdout",
     "output_type": "stream",
     "text": [
      "No\n"
     ]
    }
   ],
   "source": [
    "check(30,3)"
   ]
  },
  {
   "cell_type": "code",
   "execution_count": null,
   "id": "ee98bec9",
   "metadata": {},
   "outputs": [],
   "source": []
  }
 ],
 "metadata": {
  "kernelspec": {
   "display_name": "Python 3 (ipykernel)",
   "language": "python",
   "name": "python3"
  },
  "language_info": {
   "codemirror_mode": {
    "name": "ipython",
    "version": 3
   },
   "file_extension": ".py",
   "mimetype": "text/x-python",
   "name": "python",
   "nbconvert_exporter": "python",
   "pygments_lexer": "ipython3",
   "version": "3.7.15"
  }
 },
 "nbformat": 4,
 "nbformat_minor": 5
}
