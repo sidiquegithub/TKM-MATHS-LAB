{
 "cells": [
  {
   "cell_type": "code",
   "execution_count": null,
   "id": "454f58f1",
   "metadata": {},
   "outputs": [],
   "source": [
    "# Import Numpy\n",
    "# numpy.array   One Diamentional\n",
    "# Two diamentional\n",
    "# A + B\n",
    "# A - B\n",
    "# A*B\n",
    "\n",
    "\n",
    "# numpy as np\n",
    "# np.array  \n",
    "# A+B  \n",
    "# A-B\n",
    "# A*B\n",
    "# m*A   Scalar multiplication\n",
    "\n",
    "# m by n matrix\n",
    "# A +B,....\n",
    "\n",
    "\n",
    "# Matrix multiplication  np.dot(A,B)\n",
    "\n",
    "\n",
    "\n",
    "# linear algebra inverse\n",
    "# np.linalg.inv(A)\n",
    "# np.linalg.det(A)\n",
    "# np.linalg.Matrix_rank(A)\n",
    "# np.transpose(A)"
   ]
  },
  {
   "cell_type": "code",
   "execution_count": 1,
   "id": "a9685b9d",
   "metadata": {},
   "outputs": [],
   "source": [
    "import numpy as np"
   ]
  },
  {
   "cell_type": "code",
   "execution_count": 47,
   "id": "251febe6",
   "metadata": {},
   "outputs": [
    {
     "data": {
      "text/plain": [
       "(1,)"
      ]
     },
     "execution_count": 47,
     "metadata": {},
     "output_type": "execute_result"
    }
   ],
   "source": [
    "M = np.array([1])\n",
    "M.shape"
   ]
  },
  {
   "cell_type": "code",
   "execution_count": 48,
   "id": "e7f7b11c",
   "metadata": {},
   "outputs": [],
   "source": [
    "A = np.array([[1,2,3]])\n",
    "B = np.array([3,4,5])"
   ]
  },
  {
   "cell_type": "code",
   "execution_count": 43,
   "id": "a9afefae",
   "metadata": {},
   "outputs": [
    {
     "data": {
      "text/plain": [
       "(1, 3)"
      ]
     },
     "execution_count": 43,
     "metadata": {},
     "output_type": "execute_result"
    }
   ],
   "source": [
    "A.shape"
   ]
  },
  {
   "cell_type": "code",
   "execution_count": 5,
   "id": "95bc76e8",
   "metadata": {},
   "outputs": [
    {
     "data": {
      "text/plain": [
       "array([4, 6, 8])"
      ]
     },
     "execution_count": 5,
     "metadata": {},
     "output_type": "execute_result"
    }
   ],
   "source": [
    "A+B"
   ]
  },
  {
   "cell_type": "code",
   "execution_count": 6,
   "id": "2e6b2a16",
   "metadata": {},
   "outputs": [
    {
     "data": {
      "text/plain": [
       "array([-2, -2, -2])"
      ]
     },
     "execution_count": 6,
     "metadata": {},
     "output_type": "execute_result"
    }
   ],
   "source": [
    "A-B"
   ]
  },
  {
   "cell_type": "code",
   "execution_count": 7,
   "id": "e3d62a68",
   "metadata": {},
   "outputs": [
    {
     "data": {
      "text/plain": [
       "array([ 3,  8, 15])"
      ]
     },
     "execution_count": 7,
     "metadata": {},
     "output_type": "execute_result"
    }
   ],
   "source": [
    "A*B"
   ]
  },
  {
   "cell_type": "code",
   "execution_count": 8,
   "id": "dee560d1",
   "metadata": {},
   "outputs": [
    {
     "data": {
      "text/plain": [
       "26"
      ]
     },
     "execution_count": 8,
     "metadata": {},
     "output_type": "execute_result"
    }
   ],
   "source": [
    "np.dot(A,B)"
   ]
  },
  {
   "cell_type": "code",
   "execution_count": 37,
   "id": "1f4743f5",
   "metadata": {},
   "outputs": [],
   "source": [
    "A = np.array([[1,2,4,66,178,890,67],\n",
    "             [3,55,77,990,123,578,389],\n",
    "             [123,456,789,9876,45,64,333],\n",
    "            [123,654,789,40,12,67,8],\n",
    "            [123,654,76,7890,9000,456,789],\n",
    "            [123,4956,789,9876,45,64,333],\n",
    "            [123,654,789,40,12,67,348]])"
   ]
  },
  {
   "cell_type": "code",
   "execution_count": 38,
   "id": "a44e3f69",
   "metadata": {},
   "outputs": [
    {
     "data": {
      "text/plain": [
       "(7, 7)"
      ]
     },
     "execution_count": 38,
     "metadata": {},
     "output_type": "execute_result"
    }
   ],
   "source": [
    "A.shape"
   ]
  },
  {
   "cell_type": "code",
   "execution_count": 39,
   "id": "a7587339",
   "metadata": {},
   "outputs": [],
   "source": [
    "m,n = A.shape"
   ]
  },
  {
   "cell_type": "code",
   "execution_count": 40,
   "id": "3c6c56f9",
   "metadata": {},
   "outputs": [
    {
     "data": {
      "text/plain": [
       "7"
      ]
     },
     "execution_count": 40,
     "metadata": {},
     "output_type": "execute_result"
    }
   ],
   "source": [
    "m"
   ]
  },
  {
   "cell_type": "code",
   "execution_count": 41,
   "id": "e77a9154",
   "metadata": {},
   "outputs": [
    {
     "data": {
      "text/plain": [
       "7"
      ]
     },
     "execution_count": 41,
     "metadata": {},
     "output_type": "execute_result"
    }
   ],
   "source": [
    "n"
   ]
  },
  {
   "cell_type": "code",
   "execution_count": null,
   "id": "736f8309",
   "metadata": {},
   "outputs": [],
   "source": []
  },
  {
   "cell_type": "code",
   "execution_count": 33,
   "id": "227217f6",
   "metadata": {},
   "outputs": [
    {
     "data": {
      "text/plain": [
       "array([[ 6.90802043e-02, -1.07532267e-01,  1.00219634e-02,\n",
       "        -9.93714467e-02,  5.21551551e-05,  2.54631234e-04,\n",
       "         9.92338887e-02],\n",
       "       [ 0.00000000e+00,  0.00000000e+00, -2.22222222e-04,\n",
       "         0.00000000e+00,  0.00000000e+00,  2.22222222e-04,\n",
       "         0.00000000e+00],\n",
       "       [-1.08639126e-02,  1.67623095e-02, -1.38246709e-03,\n",
       "         1.67697871e-02, -7.91310214e-06, -2.24154491e-04,\n",
       "        -1.54757647e-02],\n",
       "       [ 3.47721622e-06, -4.57497434e-06,  9.78610395e-05,\n",
       "        -9.47783025e-06, -3.82368681e-07,  4.54827224e-06,\n",
       "        -9.24657981e-05],\n",
       "       [-9.20186332e-04,  1.34336087e-03, -1.96327359e-04,\n",
       "         1.48456826e-03,  1.11934354e-04, -2.19390391e-05,\n",
       "        -1.40351992e-03],\n",
       "       [ 1.27858328e-03, -2.22846356e-04,  2.74604390e-05,\n",
       "        -3.85129117e-05, -2.23815522e-05,  4.27247783e-06,\n",
       "         2.42018381e-05],\n",
       "       [-0.00000000e+00, -0.00000000e+00,  0.00000000e+00,\n",
       "        -2.94117647e-03, -0.00000000e+00, -0.00000000e+00,\n",
       "         2.94117647e-03]])"
      ]
     },
     "execution_count": 33,
     "metadata": {},
     "output_type": "execute_result"
    }
   ],
   "source": [
    "np.linalg.inv(A)"
   ]
  },
  {
   "cell_type": "code",
   "execution_count": 34,
   "id": "001d147d",
   "metadata": {},
   "outputs": [
    {
     "data": {
      "text/plain": [
       "8.725656949489558e+20"
      ]
     },
     "execution_count": 34,
     "metadata": {},
     "output_type": "execute_result"
    }
   ],
   "source": [
    "np.linalg.det(A)"
   ]
  },
  {
   "cell_type": "code",
   "execution_count": null,
   "id": "6011dc99",
   "metadata": {},
   "outputs": [],
   "source": []
  },
  {
   "cell_type": "code",
   "execution_count": null,
   "id": "02be08dd",
   "metadata": {},
   "outputs": [],
   "source": []
  },
  {
   "cell_type": "code",
   "execution_count": null,
   "id": "fe6c8a53",
   "metadata": {},
   "outputs": [],
   "source": []
  },
  {
   "cell_type": "code",
   "execution_count": null,
   "id": "a15215dd",
   "metadata": {},
   "outputs": [],
   "source": []
  },
  {
   "cell_type": "code",
   "execution_count": null,
   "id": "c0f475c7",
   "metadata": {},
   "outputs": [],
   "source": []
  },
  {
   "cell_type": "code",
   "execution_count": null,
   "id": "891482bb",
   "metadata": {},
   "outputs": [],
   "source": []
  },
  {
   "cell_type": "code",
   "execution_count": null,
   "id": "f3a7ccfe",
   "metadata": {},
   "outputs": [],
   "source": []
  },
  {
   "cell_type": "code",
   "execution_count": null,
   "id": "64dabfec",
   "metadata": {},
   "outputs": [],
   "source": []
  },
  {
   "cell_type": "code",
   "execution_count": 18,
   "id": "d177fe7c",
   "metadata": {},
   "outputs": [
    {
     "data": {
      "text/plain": [
       "array([[13, 25, 29],\n",
       "       [14, 28, 30]])"
      ]
     },
     "execution_count": 18,
     "metadata": {},
     "output_type": "execute_result"
    }
   ],
   "source": [
    "A = np.array([[1,2,3],[0,2,4]])\n",
    "B = np.array([[2,3,4],[1,2,5],[3,6,5]])\n",
    "np.dot(A,B)"
   ]
  },
  {
   "cell_type": "code",
   "execution_count": null,
   "id": "3589fcfd",
   "metadata": {},
   "outputs": [],
   "source": []
  },
  {
   "cell_type": "code",
   "execution_count": 21,
   "id": "e9694dcb",
   "metadata": {},
   "outputs": [],
   "source": [
    "import numpy.linalg as lng"
   ]
  },
  {
   "cell_type": "code",
   "execution_count": 22,
   "id": "896a6350",
   "metadata": {},
   "outputs": [
    {
     "data": {
      "text/plain": [
       "array([[ 2.00000000e+00, -9.00000000e-01, -7.00000000e-01],\n",
       "       [-1.00000000e+00,  2.00000000e-01,  6.00000000e-01],\n",
       "       [ 3.33066907e-17,  3.00000000e-01, -1.00000000e-01]])"
      ]
     },
     "execution_count": 22,
     "metadata": {},
     "output_type": "execute_result"
    }
   ],
   "source": [
    "lng.inv(B)"
   ]
  },
  {
   "cell_type": "code",
   "execution_count": 23,
   "id": "52bc5abe",
   "metadata": {},
   "outputs": [
    {
     "data": {
      "text/plain": [
       "array([[-1.,  1.,  1.],\n",
       "       [ 1., -1., -0.],\n",
       "       [ 1., -0., -1.]])"
      ]
     },
     "execution_count": 23,
     "metadata": {},
     "output_type": "execute_result"
    }
   ],
   "source": [
    "np.linalg.inv([[1,1,1],[1,0,1],[1,1,0]])"
   ]
  },
  {
   "cell_type": "code",
   "execution_count": 24,
   "id": "74e6af62",
   "metadata": {},
   "outputs": [
    {
     "data": {
      "text/plain": [
       "1.0"
      ]
     },
     "execution_count": 24,
     "metadata": {},
     "output_type": "execute_result"
    }
   ],
   "source": [
    "np.linalg.det([[1,1,1],[1,0,1],[1,1,0]])"
   ]
  },
  {
   "cell_type": "code",
   "execution_count": 25,
   "id": "2af1c87b",
   "metadata": {},
   "outputs": [
    {
     "data": {
      "text/plain": [
       "0.0"
      ]
     },
     "execution_count": 25,
     "metadata": {},
     "output_type": "execute_result"
    }
   ],
   "source": [
    "np.linalg.det([[1,1,1],[1,1,1],[1,1,1]])"
   ]
  },
  {
   "cell_type": "code",
   "execution_count": 27,
   "id": "a6ee105d",
   "metadata": {},
   "outputs": [
    {
     "data": {
      "text/plain": [
       "1"
      ]
     },
     "execution_count": 27,
     "metadata": {},
     "output_type": "execute_result"
    }
   ],
   "source": [
    "np.linalg.matrix_rank([[1,1,1],[1,1,1],[1,1,1]])"
   ]
  },
  {
   "cell_type": "code",
   "execution_count": 28,
   "id": "6c09c5a1",
   "metadata": {},
   "outputs": [
    {
     "data": {
      "text/plain": [
       "3"
      ]
     },
     "execution_count": 28,
     "metadata": {},
     "output_type": "execute_result"
    }
   ],
   "source": [
    "np.linalg.matrix_rank([[1,1,1],[1,0,1],[1,1,0]])"
   ]
  },
  {
   "cell_type": "code",
   "execution_count": 30,
   "id": "cc6aa47d",
   "metadata": {},
   "outputs": [
    {
     "data": {
      "text/plain": [
       "array([[1, 1, 1],\n",
       "       [2, 0, 1],\n",
       "       [5, 1, 0]])"
      ]
     },
     "execution_count": 30,
     "metadata": {},
     "output_type": "execute_result"
    }
   ],
   "source": [
    "np.transpose([[1,2,5],[1,0,1],[1,1,0]])"
   ]
  },
  {
   "cell_type": "code",
   "execution_count": null,
   "id": "a6700d76",
   "metadata": {},
   "outputs": [],
   "source": []
  },
  {
   "cell_type": "code",
   "execution_count": 16,
   "id": "a7e4a54a",
   "metadata": {},
   "outputs": [],
   "source": [
    "import numpy"
   ]
  },
  {
   "cell_type": "code",
   "execution_count": 17,
   "id": "6470804c",
   "metadata": {},
   "outputs": [
    {
     "data": {
      "text/plain": [
       "array([[ 2.00000000e+00, -9.00000000e-01, -7.00000000e-01],\n",
       "       [-1.00000000e+00,  2.00000000e-01,  6.00000000e-01],\n",
       "       [ 3.33066907e-17,  3.00000000e-01, -1.00000000e-01]])"
      ]
     },
     "execution_count": 17,
     "metadata": {},
     "output_type": "execute_result"
    }
   ],
   "source": [
    "numpy.linalg.inv(np.array([[2,3,4],[1,2,5],[3,6,5]]))"
   ]
  },
  {
   "cell_type": "code",
   "execution_count": null,
   "id": "548ffc44",
   "metadata": {},
   "outputs": [],
   "source": []
  }
 ],
 "metadata": {
  "kernelspec": {
   "display_name": "Python 3 (ipykernel)",
   "language": "python",
   "name": "python3"
  },
  "language_info": {
   "codemirror_mode": {
    "name": "ipython",
    "version": 3
   },
   "file_extension": ".py",
   "mimetype": "text/x-python",
   "name": "python",
   "nbconvert_exporter": "python",
   "pygments_lexer": "ipython3",
   "version": "3.7.15"
  }
 },
 "nbformat": 4,
 "nbformat_minor": 5
}
