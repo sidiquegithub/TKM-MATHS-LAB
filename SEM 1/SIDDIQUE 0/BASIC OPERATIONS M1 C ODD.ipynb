{
 "cells": [
  {
   "cell_type": "markdown",
   "id": "dfeacdec",
   "metadata": {},
   "source": [
    "# ADDITION"
   ]
  },
  {
   "cell_type": "code",
   "execution_count": 1,
   "id": "1e3e7f1e",
   "metadata": {},
   "outputs": [
    {
     "data": {
      "text/plain": [
       "8"
      ]
     },
     "execution_count": 1,
     "metadata": {},
     "output_type": "execute_result"
    }
   ],
   "source": [
    "3+5"
   ]
  },
  {
   "cell_type": "markdown",
   "id": "227ce830",
   "metadata": {},
   "source": [
    "# SUBTRACTION"
   ]
  },
  {
   "cell_type": "code",
   "execution_count": 2,
   "id": "a94c07de",
   "metadata": {},
   "outputs": [
    {
     "data": {
      "text/plain": [
       "-3"
      ]
     },
     "execution_count": 2,
     "metadata": {},
     "output_type": "execute_result"
    }
   ],
   "source": [
    "5-8"
   ]
  },
  {
   "cell_type": "markdown",
   "id": "7cc5696c",
   "metadata": {},
   "source": [
    "# MULTIPLICATION"
   ]
  },
  {
   "cell_type": "code",
   "execution_count": 3,
   "id": "398dc6db",
   "metadata": {},
   "outputs": [
    {
     "data": {
      "text/plain": [
       "72"
      ]
     },
     "execution_count": 3,
     "metadata": {},
     "output_type": "execute_result"
    }
   ],
   "source": [
    "8*9"
   ]
  },
  {
   "cell_type": "markdown",
   "id": "c12c1fb2",
   "metadata": {},
   "source": [
    "# DIVISION"
   ]
  },
  {
   "cell_type": "code",
   "execution_count": 4,
   "id": "5957028e",
   "metadata": {},
   "outputs": [
    {
     "data": {
      "text/plain": [
       "5.0"
      ]
     },
     "execution_count": 4,
     "metadata": {},
     "output_type": "execute_result"
    }
   ],
   "source": [
    "10/2"
   ]
  },
  {
   "cell_type": "markdown",
   "id": "bb696fc3",
   "metadata": {},
   "source": [
    "# REMINDER"
   ]
  },
  {
   "cell_type": "code",
   "execution_count": 5,
   "id": "f248f7ef",
   "metadata": {},
   "outputs": [
    {
     "data": {
      "text/plain": [
       "1"
      ]
     },
     "execution_count": 5,
     "metadata": {},
     "output_type": "execute_result"
    }
   ],
   "source": [
    "10%3"
   ]
  },
  {
   "cell_type": "markdown",
   "id": "cfd99f79",
   "metadata": {},
   "source": [
    "# PRINT FUNCTION"
   ]
  },
  {
   "cell_type": "code",
   "execution_count": 6,
   "id": "8cff6dcd",
   "metadata": {},
   "outputs": [
    {
     "name": "stdout",
     "output_type": "stream",
     "text": [
      "8\n"
     ]
    }
   ],
   "source": [
    "print(3+5)"
   ]
  },
  {
   "cell_type": "code",
   "execution_count": 7,
   "id": "e710a061",
   "metadata": {},
   "outputs": [
    {
     "name": "stdout",
     "output_type": "stream",
     "text": [
      "helloooooo\n"
     ]
    }
   ],
   "source": [
    "print(\"helloooooo\")"
   ]
  },
  {
   "cell_type": "code",
   "execution_count": 8,
   "id": "de9e2545",
   "metadata": {},
   "outputs": [
    {
     "name": "stdout",
     "output_type": "stream",
     "text": [
      "My Name Is Siddique\n"
     ]
    }
   ],
   "source": [
    "print(\"My Name Is Siddique\")"
   ]
  },
  {
   "cell_type": "code",
   "execution_count": 9,
   "id": "f13a41c8",
   "metadata": {},
   "outputs": [
    {
     "name": "stdout",
     "output_type": "stream",
     "text": [
      "3+5\n"
     ]
    }
   ],
   "source": [
    "print('3+5')"
   ]
  },
  {
   "cell_type": "code",
   "execution_count": 10,
   "id": "bb6aa514",
   "metadata": {},
   "outputs": [
    {
     "name": "stdout",
     "output_type": "stream",
     "text": [
      "5\n"
     ]
    }
   ],
   "source": [
    "x = 5\n",
    "print(x)"
   ]
  },
  {
   "cell_type": "code",
   "execution_count": 11,
   "id": "2d494a22",
   "metadata": {},
   "outputs": [
    {
     "name": "stdout",
     "output_type": "stream",
     "text": [
      "7\n",
      "x\n"
     ]
    }
   ],
   "source": [
    "x =7 \n",
    "print(x)\n",
    "print('x')"
   ]
  },
  {
   "cell_type": "code",
   "execution_count": 12,
   "id": "48309d53",
   "metadata": {},
   "outputs": [
    {
     "name": "stdout",
     "output_type": "stream",
     "text": [
      "Number is  18\n"
     ]
    }
   ],
   "source": [
    "x = 18\n",
    "print(\"Number is \", x )"
   ]
  },
  {
   "cell_type": "code",
   "execution_count": 13,
   "id": "e17a90da",
   "metadata": {},
   "outputs": [
    {
     "name": "stdout",
     "output_type": "stream",
     "text": [
      "Number is \n",
      " 24\n"
     ]
    }
   ],
   "source": [
    "x = 24\n",
    "print(\"Number is \\n\", x)"
   ]
  },
  {
   "cell_type": "code",
   "execution_count": 14,
   "id": "9bff1eca",
   "metadata": {},
   "outputs": [
    {
     "name": "stdout",
     "output_type": "stream",
     "text": [
      "Sum of 26 and 89 is 115\n"
     ]
    }
   ],
   "source": [
    "u = 26\n",
    "v = 89\n",
    "print(f'Sum of {u} and {v} is {u+v}')"
   ]
  },
  {
   "cell_type": "markdown",
   "id": "5a409347",
   "metadata": {},
   "source": [
    "# if CONDITION"
   ]
  },
  {
   "cell_type": "code",
   "execution_count": 15,
   "id": "36c5ab1e",
   "metadata": {},
   "outputs": [],
   "source": [
    "x = 7 \n",
    "if x==0 :\n",
    "    print(\"Yes\")    "
   ]
  },
  {
   "cell_type": "code",
   "execution_count": 16,
   "id": "3a2ab8bc",
   "metadata": {},
   "outputs": [
    {
     "name": "stdout",
     "output_type": "stream",
     "text": [
      "Yes\n"
     ]
    }
   ],
   "source": [
    "y = 0 \n",
    "if y == 0 :\n",
    "    print(\"Yes\")"
   ]
  },
  {
   "cell_type": "markdown",
   "id": "d855a50f",
   "metadata": {},
   "source": [
    "### Question) Print \"yes\" if the given number is even"
   ]
  },
  {
   "cell_type": "code",
   "execution_count": 17,
   "id": "8876708d",
   "metadata": {},
   "outputs": [
    {
     "name": "stdout",
     "output_type": "stream",
     "text": [
      "Yes\n"
     ]
    }
   ],
   "source": [
    "x = 58\n",
    "if x%2 ==0 :\n",
    "    print(\"Yes\")"
   ]
  },
  {
   "cell_type": "code",
   "execution_count": 18,
   "id": "9513d2bc",
   "metadata": {},
   "outputs": [],
   "source": [
    "x = 59\n",
    "if x%2 ==0 :\n",
    "    print(\"Yes\")"
   ]
  },
  {
   "cell_type": "markdown",
   "id": "a6d7ee57",
   "metadata": {},
   "source": [
    "## if else CONDITION"
   ]
  },
  {
   "cell_type": "code",
   "execution_count": 19,
   "id": "9245d87a",
   "metadata": {},
   "outputs": [
    {
     "name": "stdout",
     "output_type": "stream",
     "text": [
      "No\n"
     ]
    }
   ],
   "source": [
    "x = 35 \n",
    "if x%2 == 0:\n",
    "    print(\"Yes\")\n",
    "else:\n",
    "    print(\"No\")"
   ]
  },
  {
   "cell_type": "code",
   "execution_count": 20,
   "id": "784a90c0",
   "metadata": {},
   "outputs": [
    {
     "name": "stdout",
     "output_type": "stream",
     "text": [
      "Yes\n"
     ]
    }
   ],
   "source": [
    "x = 32 \n",
    "if x%2 == 0:\n",
    "    print(\"Yes\")\n",
    "else:\n",
    "    print(\"No\")"
   ]
  },
  {
   "cell_type": "code",
   "execution_count": 21,
   "id": "e3b4073d",
   "metadata": {},
   "outputs": [
    {
     "name": "stdout",
     "output_type": "stream",
     "text": [
      "Multiple of 5\n"
     ]
    }
   ],
   "source": [
    "x = 35 \n",
    "if x%5 == 0:\n",
    "    print(\"Multiple of 5\")\n",
    "else:\n",
    "    print(\"Not a multiple of 5\")"
   ]
  },
  {
   "cell_type": "code",
   "execution_count": 22,
   "id": "7b1309b8",
   "metadata": {},
   "outputs": [
    {
     "name": "stdout",
     "output_type": "stream",
     "text": [
      "17.5\n"
     ]
    }
   ],
   "source": [
    "x = 35 \n",
    "if x%2 == 0:\n",
    "    print(x**2)\n",
    "else:\n",
    "    print(x/2)"
   ]
  },
  {
   "cell_type": "markdown",
   "id": "ba645a79",
   "metadata": {},
   "source": [
    "# Using if loop print \"I am happy\", if sum of two is dvisible by 5, else print 'I am not happy'"
   ]
  },
  {
   "cell_type": "code",
   "execution_count": 1,
   "id": "df5f096b",
   "metadata": {},
   "outputs": [
    {
     "name": "stdout",
     "output_type": "stream",
     "text": [
      "I am not happy\n"
     ]
    }
   ],
   "source": [
    "x = 5\n",
    "y = 32\n",
    "if (x+y)%5 == 0:\n",
    "    print(\"I am Happy\")\n",
    "else:\n",
    "    print(\"I am not happy\")"
   ]
  },
  {
   "cell_type": "code",
   "execution_count": null,
   "id": "8cd70682",
   "metadata": {},
   "outputs": [],
   "source": []
  },
  {
   "cell_type": "code",
   "execution_count": null,
   "id": "85096293",
   "metadata": {},
   "outputs": [],
   "source": []
  },
  {
   "cell_type": "code",
   "execution_count": null,
   "id": "010c4ef4",
   "metadata": {},
   "outputs": [],
   "source": []
  },
  {
   "cell_type": "code",
   "execution_count": null,
   "id": "9d83f74f",
   "metadata": {},
   "outputs": [],
   "source": []
  },
  {
   "cell_type": "markdown",
   "id": "b2e11ffd",
   "metadata": {},
   "source": [
    "# User Defined Function"
   ]
  },
  {
   "cell_type": "markdown",
   "id": "ca5862ee",
   "metadata": {},
   "source": [
    "Define a function Addition, which takes two input values and print its sum"
   ]
  },
  {
   "cell_type": "code",
   "execution_count": 45,
   "id": "b1f174aa",
   "metadata": {},
   "outputs": [],
   "source": [
    "def Addition(u,v):\n",
    "    z = u + v\n",
    "    print(f'Sum of {u} and {v} is {z}')"
   ]
  },
  {
   "cell_type": "code",
   "execution_count": 46,
   "id": "76e7da91",
   "metadata": {},
   "outputs": [
    {
     "name": "stdout",
     "output_type": "stream",
     "text": [
      "Sum of 4 and 5 is 9\n"
     ]
    }
   ],
   "source": [
    "Addition(4,5)"
   ]
  },
  {
   "cell_type": "code",
   "execution_count": 47,
   "id": "e0c4a462",
   "metadata": {},
   "outputs": [
    {
     "name": "stdout",
     "output_type": "stream",
     "text": [
      "Sum of 40 and 52 is 92\n"
     ]
    }
   ],
   "source": [
    "Addition(40,52)"
   ]
  },
  {
   "cell_type": "markdown",
   "id": "3a3142d3",
   "metadata": {},
   "source": [
    "## Define a function which takes one number, print \"The Number is even\" also its square if the number is even , else print\"The number is odd\" and half of the number"
   ]
  },
  {
   "cell_type": "markdown",
   "id": "14e9c340",
   "metadata": {},
   "source": [
    "# LIST "
   ]
  },
  {
   "cell_type": "code",
   "execution_count": 48,
   "id": "5ee49d47",
   "metadata": {},
   "outputs": [],
   "source": [
    "list = [2,5,6,7,80]"
   ]
  },
  {
   "cell_type": "code",
   "execution_count": 49,
   "id": "9ee26c67",
   "metadata": {},
   "outputs": [
    {
     "data": {
      "text/plain": [
       "5"
      ]
     },
     "execution_count": 49,
     "metadata": {},
     "output_type": "execute_result"
    }
   ],
   "source": [
    "len(list)"
   ]
  },
  {
   "cell_type": "code",
   "execution_count": 50,
   "id": "a5046e3d",
   "metadata": {},
   "outputs": [
    {
     "data": {
      "text/plain": [
       "2"
      ]
     },
     "execution_count": 50,
     "metadata": {},
     "output_type": "execute_result"
    }
   ],
   "source": [
    "list[0]"
   ]
  },
  {
   "cell_type": "code",
   "execution_count": 51,
   "id": "0ad9bbf4",
   "metadata": {},
   "outputs": [
    {
     "data": {
      "text/plain": [
       "80"
      ]
     },
     "execution_count": 51,
     "metadata": {},
     "output_type": "execute_result"
    }
   ],
   "source": [
    "list[4]"
   ]
  },
  {
   "cell_type": "code",
   "execution_count": 54,
   "id": "a2f3ebe9",
   "metadata": {},
   "outputs": [],
   "source": [
    "list.append(8)"
   ]
  },
  {
   "cell_type": "code",
   "execution_count": 55,
   "id": "f412d1a4",
   "metadata": {},
   "outputs": [
    {
     "data": {
      "text/plain": [
       "[2, 5, 6, 7, 80, 8]"
      ]
     },
     "execution_count": 55,
     "metadata": {},
     "output_type": "execute_result"
    }
   ],
   "source": [
    "list"
   ]
  },
  {
   "cell_type": "code",
   "execution_count": null,
   "id": "372ce244",
   "metadata": {},
   "outputs": [],
   "source": []
  },
  {
   "cell_type": "code",
   "execution_count": null,
   "id": "0bc5c91c",
   "metadata": {},
   "outputs": [],
   "source": []
  },
  {
   "cell_type": "code",
   "execution_count": 23,
   "id": "c7e1dc49",
   "metadata": {},
   "outputs": [],
   "source": [
    "list = [1,2,3]"
   ]
  },
  {
   "cell_type": "code",
   "execution_count": 24,
   "id": "0b0c8c16",
   "metadata": {},
   "outputs": [
    {
     "data": {
      "text/plain": [
       "3"
      ]
     },
     "execution_count": 24,
     "metadata": {},
     "output_type": "execute_result"
    }
   ],
   "source": [
    "len(list)"
   ]
  },
  {
   "cell_type": "code",
   "execution_count": 25,
   "id": "7d3a8a65",
   "metadata": {},
   "outputs": [
    {
     "data": {
      "text/plain": [
       "1"
      ]
     },
     "execution_count": 25,
     "metadata": {},
     "output_type": "execute_result"
    }
   ],
   "source": [
    "list[0]"
   ]
  },
  {
   "cell_type": "code",
   "execution_count": 26,
   "id": "5729a76e",
   "metadata": {},
   "outputs": [
    {
     "data": {
      "text/plain": [
       "3"
      ]
     },
     "execution_count": 26,
     "metadata": {},
     "output_type": "execute_result"
    }
   ],
   "source": [
    "list[2]"
   ]
  },
  {
   "cell_type": "code",
   "execution_count": 27,
   "id": "816b00c3",
   "metadata": {},
   "outputs": [
    {
     "data": {
      "text/plain": [
       "4"
      ]
     },
     "execution_count": 27,
     "metadata": {},
     "output_type": "execute_result"
    }
   ],
   "source": [
    "list[0] + list[2]"
   ]
  },
  {
   "cell_type": "code",
   "execution_count": 28,
   "id": "9d6da5e1",
   "metadata": {},
   "outputs": [],
   "source": [
    "list.append(20)"
   ]
  },
  {
   "cell_type": "code",
   "execution_count": 29,
   "id": "f5b30e31",
   "metadata": {},
   "outputs": [
    {
     "data": {
      "text/plain": [
       "[1, 2, 3, 20]"
      ]
     },
     "execution_count": 29,
     "metadata": {},
     "output_type": "execute_result"
    }
   ],
   "source": [
    "list"
   ]
  },
  {
   "cell_type": "code",
   "execution_count": null,
   "id": "a7d6dcd2",
   "metadata": {},
   "outputs": [],
   "source": []
  },
  {
   "cell_type": "code",
   "execution_count": 57,
   "id": "fcdda62a",
   "metadata": {},
   "outputs": [],
   "source": [
    "list_2 = ['apple',2,250]\n",
    "list_3 = ['orange', 5, 360]"
   ]
  },
  {
   "cell_type": "code",
   "execution_count": 59,
   "id": "eacae4ab",
   "metadata": {},
   "outputs": [
    {
     "data": {
      "text/plain": [
       "['apple', 2, 250, 'orange', 5, 360]"
      ]
     },
     "execution_count": 59,
     "metadata": {},
     "output_type": "execute_result"
    }
   ],
   "source": [
    "list_2 + list_3    #concatenation"
   ]
  },
  {
   "cell_type": "code",
   "execution_count": 60,
   "id": "809bd9e6",
   "metadata": {},
   "outputs": [
    {
     "data": {
      "text/plain": [
       "7"
      ]
     },
     "execution_count": 60,
     "metadata": {},
     "output_type": "execute_result"
    }
   ],
   "source": [
    "# Adding elements in list\n",
    "list_2[1] + list_3[1]"
   ]
  },
  {
   "cell_type": "code",
   "execution_count": 61,
   "id": "fa8e3fdf",
   "metadata": {},
   "outputs": [
    {
     "data": {
      "text/plain": [
       "610"
      ]
     },
     "execution_count": 61,
     "metadata": {},
     "output_type": "execute_result"
    }
   ],
   "source": [
    "list_2[2] + list_3[2]"
   ]
  },
  {
   "cell_type": "code",
   "execution_count": 62,
   "id": "e155c159",
   "metadata": {},
   "outputs": [
    {
     "data": {
      "text/plain": [
       "'appleorange'"
      ]
     },
     "execution_count": 62,
     "metadata": {},
     "output_type": "execute_result"
    }
   ],
   "source": [
    "list_2[0] + list_3[0]"
   ]
  },
  {
   "cell_type": "code",
   "execution_count": null,
   "id": "9fed6af8",
   "metadata": {},
   "outputs": [],
   "source": []
  },
  {
   "cell_type": "markdown",
   "id": "b0544229",
   "metadata": {},
   "source": [
    "# for LOOP"
   ]
  },
  {
   "cell_type": "code",
   "execution_count": 63,
   "id": "6479fe67",
   "metadata": {},
   "outputs": [
    {
     "name": "stdout",
     "output_type": "stream",
     "text": [
      "25\n",
      "625\n",
      "1225\n",
      "2025\n"
     ]
    }
   ],
   "source": [
    "x = [5,25,35,45]\n",
    "for j in x:\n",
    "    print(j**2)"
   ]
  },
  {
   "cell_type": "code",
   "execution_count": null,
   "id": "4727c8da",
   "metadata": {},
   "outputs": [],
   "source": [
    "for i in range(10):\n",
    "    print(2*i)"
   ]
  },
  {
   "cell_type": "code",
   "execution_count": null,
   "id": "47722a08",
   "metadata": {},
   "outputs": [],
   "source": []
  },
  {
   "cell_type": "code",
   "execution_count": null,
   "id": "b48d3822",
   "metadata": {},
   "outputs": [],
   "source": [
    "for j in range(9,17):\n",
    "    print(j**2)"
   ]
  },
  {
   "cell_type": "code",
   "execution_count": null,
   "id": "1919e2bb",
   "metadata": {},
   "outputs": [],
   "source": [
    "for k in range(10,20,2):\n",
    "    print(k)"
   ]
  },
  {
   "cell_type": "code",
   "execution_count": null,
   "id": "9bec6a54",
   "metadata": {},
   "outputs": [],
   "source": []
  },
  {
   "cell_type": "code",
   "execution_count": null,
   "id": "61956eb3",
   "metadata": {},
   "outputs": [],
   "source": []
  },
  {
   "cell_type": "code",
   "execution_count": null,
   "id": "d6a388b1",
   "metadata": {},
   "outputs": [],
   "source": []
  },
  {
   "cell_type": "code",
   "execution_count": 36,
   "id": "da6f042f",
   "metadata": {},
   "outputs": [],
   "source": [
    "numbers = [10,20,30]"
   ]
  },
  {
   "cell_type": "code",
   "execution_count": 37,
   "id": "e55867f0",
   "metadata": {},
   "outputs": [
    {
     "name": "stdout",
     "output_type": "stream",
     "text": [
      "11\n",
      "21\n",
      "31\n"
     ]
    }
   ],
   "source": [
    "for i in numbers:\n",
    "    print(i+1)"
   ]
  },
  {
   "cell_type": "code",
   "execution_count": 38,
   "id": "b82e0813",
   "metadata": {},
   "outputs": [
    {
     "name": "stdout",
     "output_type": "stream",
     "text": [
      "100\n",
      "400\n",
      "900\n"
     ]
    }
   ],
   "source": [
    "for j in numbers:\n",
    "    print(j**2)"
   ]
  },
  {
   "cell_type": "code",
   "execution_count": 39,
   "id": "e4a6b7a6",
   "metadata": {},
   "outputs": [
    {
     "name": "stdout",
     "output_type": "stream",
     "text": [
      "0\n",
      "1\n",
      "2\n",
      "3\n",
      "4\n"
     ]
    }
   ],
   "source": [
    "for i in range(5):\n",
    "    print(i)"
   ]
  },
  {
   "cell_type": "code",
   "execution_count": 40,
   "id": "9c9ace63",
   "metadata": {},
   "outputs": [
    {
     "name": "stdout",
     "output_type": "stream",
     "text": [
      "4\n",
      "5\n",
      "6\n",
      "7\n",
      "8\n",
      "9\n",
      "10\n",
      "11\n",
      "12\n",
      "13\n",
      "14\n",
      "15\n",
      "16\n",
      "17\n",
      "18\n",
      "19\n"
     ]
    }
   ],
   "source": [
    "for k in range(4,20):\n",
    "    print(k)"
   ]
  },
  {
   "cell_type": "code",
   "execution_count": null,
   "id": "054e484b",
   "metadata": {},
   "outputs": [],
   "source": []
  },
  {
   "cell_type": "code",
   "execution_count": null,
   "id": "f5befd61",
   "metadata": {},
   "outputs": [],
   "source": []
  },
  {
   "cell_type": "code",
   "execution_count": null,
   "id": "80e3922d",
   "metadata": {},
   "outputs": [],
   "source": []
  },
  {
   "cell_type": "code",
   "execution_count": null,
   "id": "34fcf2ff",
   "metadata": {},
   "outputs": [],
   "source": []
  },
  {
   "cell_type": "code",
   "execution_count": null,
   "id": "eb9ffe9f",
   "metadata": {},
   "outputs": [],
   "source": []
  },
  {
   "cell_type": "markdown",
   "id": "e1485c2a",
   "metadata": {},
   "source": [
    "# create a list containing elements \"apple\",\"orange\",\"2\", 5,6,7. Using for loop print each element in the list"
   ]
  },
  {
   "cell_type": "code",
   "execution_count": 7,
   "id": "d710f111",
   "metadata": {},
   "outputs": [],
   "source": [
    "list=[\"apple\",\"orange\",\"2\",5,6,7]"
   ]
  },
  {
   "cell_type": "code",
   "execution_count": 8,
   "id": "2a2cf3c4",
   "metadata": {},
   "outputs": [
    {
     "name": "stdout",
     "output_type": "stream",
     "text": [
      "apple\n",
      "orange\n",
      "2\n",
      "5\n",
      "6\n",
      "7\n"
     ]
    }
   ],
   "source": [
    "for i in list:\n",
    "    print(i)"
   ]
  },
  {
   "cell_type": "markdown",
   "id": "348f1b20",
   "metadata": {},
   "source": [
    "# Create two lists first one with 2,3,5,6 and 2nd one with 5,6,8,9. Using for loop add each elements and store in a new list."
   ]
  },
  {
   "cell_type": "code",
   "execution_count": null,
   "id": "5f302707",
   "metadata": {},
   "outputs": [],
   "source": []
  },
  {
   "cell_type": "code",
   "execution_count": null,
   "id": "be6b529b",
   "metadata": {},
   "outputs": [],
   "source": []
  },
  {
   "cell_type": "code",
   "execution_count": 9,
   "id": "7a2e6d5b",
   "metadata": {},
   "outputs": [],
   "source": [
    "empty = []"
   ]
  },
  {
   "cell_type": "code",
   "execution_count": 10,
   "id": "7ee7604b",
   "metadata": {},
   "outputs": [],
   "source": [
    "empty.append(8)"
   ]
  },
  {
   "cell_type": "code",
   "execution_count": 11,
   "id": "7a128c3a",
   "metadata": {},
   "outputs": [
    {
     "data": {
      "text/plain": [
       "[8]"
      ]
     },
     "execution_count": 11,
     "metadata": {},
     "output_type": "execute_result"
    }
   ],
   "source": [
    "empty"
   ]
  },
  {
   "cell_type": "code",
   "execution_count": null,
   "id": "6ee13543",
   "metadata": {},
   "outputs": [],
   "source": []
  },
  {
   "cell_type": "code",
   "execution_count": 41,
   "id": "b9f2d56e",
   "metadata": {},
   "outputs": [
    {
     "data": {
      "text/plain": [
       "[57, 112, 172]"
      ]
     },
     "execution_count": 41,
     "metadata": {},
     "output_type": "execute_result"
    }
   ],
   "source": [
    "list_1 = [21,54,76]\n",
    "list_2 = [36,58,96]\n",
    "new_list = []\n",
    "\n",
    "for k in range(3):\n",
    "    new_list.append(list_1[k]+list_2[k])\n",
    "#    print(new_list)\n",
    "\n",
    "\n",
    "new_list"
   ]
  },
  {
   "cell_type": "code",
   "execution_count": 42,
   "id": "2db159ff",
   "metadata": {},
   "outputs": [],
   "source": [
    "list_1 = [[21,54,76],[32,56,78]]\n",
    "list_2 = [[36,58,96],[43,67,89]]"
   ]
  },
  {
   "cell_type": "code",
   "execution_count": 43,
   "id": "9c2fec73",
   "metadata": {},
   "outputs": [
    {
     "data": {
      "text/plain": [
       "32"
      ]
     },
     "execution_count": 43,
     "metadata": {},
     "output_type": "execute_result"
    }
   ],
   "source": [
    "list_1[1][0]"
   ]
  },
  {
   "cell_type": "code",
   "execution_count": 44,
   "id": "91e2395f",
   "metadata": {},
   "outputs": [
    {
     "name": "stdout",
     "output_type": "stream",
     "text": [
      "[[57, 112, 172], [75, 123, 167]]\n"
     ]
    }
   ],
   "source": [
    "list_1 = [[21, 54, 76], [32, 56, 78]]\n",
    "list_2 = [[36, 58, 96], [43, 67, 89]]\n",
    "\n",
    "new_matrix = []\n",
    "\n",
    "for i in range(len(list_1)):\n",
    "    row = []  \n",
    "    for j in range(len(list_1[i])):\n",
    "        row.append(list_1[i][j] + list_2[i][j])  \n",
    "    new_matrix.append(row)  \n",
    "\n",
    "print(new_matrix)"
   ]
  },
  {
   "cell_type": "code",
   "execution_count": null,
   "id": "03e43a17",
   "metadata": {},
   "outputs": [],
   "source": []
  }
 ],
 "metadata": {
  "kernelspec": {
   "display_name": "Python 3 (ipykernel)",
   "language": "python",
   "name": "python3"
  },
  "language_info": {
   "codemirror_mode": {
    "name": "ipython",
    "version": 3
   },
   "file_extension": ".py",
   "mimetype": "text/x-python",
   "name": "python",
   "nbconvert_exporter": "python",
   "pygments_lexer": "ipython3",
   "version": "3.7.15"
  }
 },
 "nbformat": 4,
 "nbformat_minor": 5
}
