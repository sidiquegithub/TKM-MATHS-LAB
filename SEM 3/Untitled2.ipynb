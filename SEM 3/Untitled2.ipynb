{
 "cells": [
  {
   "cell_type": "markdown",
   "id": "57b979bf",
   "metadata": {},
   "source": [
    "# To find hamonic conjugate"
   ]
  },
  {
   "cell_type": "code",
   "execution_count": 2,
   "id": "278615a7",
   "metadata": {},
   "outputs": [],
   "source": [
    "import sympy as sp"
   ]
  },
  {
   "cell_type": "code",
   "execution_count": 3,
   "id": "296519a2",
   "metadata": {},
   "outputs": [
    {
     "data": {
      "text/latex": [
       "$\\displaystyle x + i y$"
      ],
      "text/plain": [
       "x + I*y"
      ]
     },
     "execution_count": 3,
     "metadata": {},
     "output_type": "execute_result"
    }
   ],
   "source": [
    "# Define x and y as real symbols\n",
    "x, y = sp.symbols('x y', real=True)\n",
    "\n",
    "# Define z as x + iy\n",
    "z = x + sp.I * y\n",
    "\n",
    "# Display z\n",
    "z"
   ]
  },
  {
   "cell_type": "code",
   "execution_count": 4,
   "id": "d3c1fafe",
   "metadata": {},
   "outputs": [],
   "source": [
    "# A function to find harmonic conjugate "
   ]
  },
  {
   "cell_type": "code",
   "execution_count": 22,
   "id": "48e71248",
   "metadata": {},
   "outputs": [],
   "source": [
    "def HarCon(u):\n",
    "    U_x=sp.diff(u,x)\n",
    "    V_initial=sp.integrate(U_x,y)+sp.Function('C1')(x)\n",
    "    U_y=sp.diff(u,y)\n",
    "    der_C1=-U_y-sp.diff(V_initial-sp.Function('C1')(x),x)\n",
    "    C1=sp.integrate(der_C1,x)\n",
    "    V=V_initial-sp.Function('C1')(x)+ C1\n",
    "    print(V)"
   ]
  },
  {
   "cell_type": "code",
   "execution_count": 29,
   "id": "472f7e47",
   "metadata": {},
   "outputs": [
    {
     "name": "stdout",
     "output_type": "stream",
     "text": [
      "-3*x**2/2 + 3*y**2/2\n"
     ]
    }
   ],
   "source": [
    "HarCon(3*x*y)"
   ]
  },
  {
   "cell_type": "code",
   "execution_count": null,
   "id": "268bf53a",
   "metadata": {},
   "outputs": [],
   "source": []
  },
  {
   "cell_type": "code",
   "execution_count": null,
   "id": "b4483c18",
   "metadata": {},
   "outputs": [],
   "source": []
  },
  {
   "cell_type": "code",
   "execution_count": null,
   "id": "54ceac16",
   "metadata": {},
   "outputs": [],
   "source": []
  },
  {
   "cell_type": "code",
   "execution_count": null,
   "id": "5fa14322",
   "metadata": {},
   "outputs": [],
   "source": []
  }
 ],
 "metadata": {
  "kernelspec": {
   "display_name": "Python 3 (ipykernel)",
   "language": "python",
   "name": "python3"
  },
  "language_info": {
   "codemirror_mode": {
    "name": "ipython",
    "version": 3
   },
   "file_extension": ".py",
   "mimetype": "text/x-python",
   "name": "python",
   "nbconvert_exporter": "python",
   "pygments_lexer": "ipython3",
   "version": "3.7.15"
  }
 },
 "nbformat": 4,
 "nbformat_minor": 5
}
