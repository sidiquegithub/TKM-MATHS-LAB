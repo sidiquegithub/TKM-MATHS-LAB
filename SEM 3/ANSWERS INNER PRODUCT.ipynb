{
 "cells": [
  {
   "cell_type": "code",
   "execution_count": 2,
   "id": "06fc450e",
   "metadata": {},
   "outputs": [],
   "source": [
    "import numpy as np\n",
    "import sympy as sp"
   ]
  },
  {
   "cell_type": "markdown",
   "id": "246aa738",
   "metadata": {},
   "source": [
    "# Practice Question 1"
   ]
  },
  {
   "cell_type": "code",
   "execution_count": 6,
   "id": "1e1dd3fb",
   "metadata": {},
   "outputs": [
    {
     "data": {
      "text/latex": [
       "$\\displaystyle -309097$"
      ],
      "text/plain": [
       "-309097"
      ]
     },
     "execution_count": 6,
     "metadata": {},
     "output_type": "execute_result"
    }
   ],
   "source": [
    "# Define the numerical vectors\n",
    "x = sp.Matrix([0,89,-345])\n",
    "y = sp.Matrix([78,-23,890])\n",
    "\n",
    "# Standard Euclidean Inner Product\n",
    "euclidean_inner_product_num = x.dot(y)\n",
    "euclidean_inner_product_num "
   ]
  },
  {
   "cell_type": "code",
   "execution_count": 7,
   "id": "688e9e36",
   "metadata": {},
   "outputs": [
    {
     "name": "stdout",
     "output_type": "stream",
     "text": [
      "-309097\n"
     ]
    }
   ],
   "source": [
    "# Answer \n",
    "u = np.array([0,89,-345])\n",
    "v = np.array([78,-23,890])\n",
    "print(np.dot(u,v))"
   ]
  },
  {
   "cell_type": "markdown",
   "id": "d24016d1",
   "metadata": {},
   "source": [
    "# Practice Question 2"
   ]
  },
  {
   "cell_type": "code",
   "execution_count": 5,
   "id": "a5bdd81f",
   "metadata": {},
   "outputs": [
    {
     "data": {
      "text/latex": [
       "$\\displaystyle -871854160$"
      ],
      "text/plain": [
       "-871854160"
      ]
     },
     "execution_count": 5,
     "metadata": {},
     "output_type": "execute_result"
    }
   ],
   "source": [
    "# Define the symbols for generality\n",
    "u1, u2, u3,u4, v1, v2, v3 ,v4= sp.symbols('u1 u2 u3 u4 v1 v2 v3 v4')\n",
    "\n",
    "# Define the vectors\n",
    "u = sp.Matrix([u1, u2, u3, u4])\n",
    "v = sp.Matrix([v1, v2, v3, v4])\n",
    "\n",
    "\n",
    "# Compute the dot product\n",
    "dot_product = u.dot(v)\n",
    "# Display the result\n",
    "dot_product\n",
    "\n",
    "# Display the result\n",
    "dot_product\n",
    "# Substitute specific values for u and v\n",
    "dot_product_val = dot_product.subs({u1: 890, u2: 890, u3: 1234, u4: -6789 , v1: -9856, v2: 4567, v3: 890 , v4: 127890 })\n",
    "# Display the result\n",
    "dot_product_val"
   ]
  },
  {
   "cell_type": "markdown",
   "id": "a3da0389",
   "metadata": {},
   "source": [
    "# Practice Question 3"
   ]
  },
  {
   "cell_type": "code",
   "execution_count": null,
   "id": "a0807d08",
   "metadata": {},
   "outputs": [],
   "source": []
  }
 ],
 "metadata": {
  "kernelspec": {
   "display_name": "Python 3 (ipykernel)",
   "language": "python",
   "name": "python3"
  },
  "language_info": {
   "codemirror_mode": {
    "name": "ipython",
    "version": 3
   },
   "file_extension": ".py",
   "mimetype": "text/x-python",
   "name": "python",
   "nbconvert_exporter": "python",
   "pygments_lexer": "ipython3",
   "version": "3.7.15"
  }
 },
 "nbformat": 4,
 "nbformat_minor": 5
}
