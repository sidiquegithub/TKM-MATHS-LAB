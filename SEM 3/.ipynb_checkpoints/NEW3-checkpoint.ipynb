{
 "cells": [
  {
   "cell_type": "markdown",
   "id": "bfb5add8-dd45-4158-9814-1785afdd7ae9",
   "metadata": {},
   "source": [
    "## Inner product of vectors of R^n"
   ]
  },
  {
   "cell_type": "code",
   "execution_count": 13,
   "id": "1287fdc5-e0c7-4cfe-9228-57b046735305",
   "metadata": {},
   "outputs": [],
   "source": [
    "import sympy as sp\n",
    "x=sp.Matrix([-1, 0, 2])\n",
    "y=sp.Matrix([-2, -1, 4])\n",
    "dotprod=x.dot(y)"
   ]
  },
  {
   "cell_type": "code",
   "execution_count": 7,
   "id": "2ec6b4e0-d532-43f7-bff2-fa5c5100b64e",
   "metadata": {},
   "outputs": [
    {
     "data": {
      "text/latex": [
       "$\\displaystyle 10$"
      ],
      "text/plain": [
       "10"
      ]
     },
     "execution_count": 7,
     "metadata": {},
     "output_type": "execute_result"
    }
   ],
   "source": [
    "dotprod"
   ]
  },
  {
   "cell_type": "markdown",
   "id": "55ae30be-6b77-4ace-961e-59a15963da6a",
   "metadata": {},
   "source": [
    "# define a function  inner(x,y) will take two vectors of R^n as input and gives \n",
    "# innerproduct between x and y as output\n"
   ]
  },
  {
   "cell_type": "code",
   "execution_count": 54,
   "id": "cb05c258-18b8-41f7-b999-d62ac4989a0d",
   "metadata": {},
   "outputs": [],
   "source": [
    "def inner(x,y):\n",
    "    c = np.dot(x,y)\n",
    "    print(c)\n",
    "import numpy as np\n",
    "x = sp.Matrix([-10,4,7,4,-7])\n",
    "y= np.array([2,3,4,5,6])\n",
    "\n"
   ]
  },
  {
   "cell_type": "code",
   "execution_count": 27,
   "id": "ffade943-844a-4eef-bbb4-dd963887f927",
   "metadata": {},
   "outputs": [
    {
     "name": "stdout",
     "output_type": "stream",
     "text": [
      "-2\n"
     ]
    }
   ],
   "source": [
    "inner(x,y)"
   ]
  },
  {
   "cell_type": "code",
   "execution_count": 35,
   "id": "6191bef9-ed93-47d7-80bc-d9ed6804deea",
   "metadata": {},
   "outputs": [
    {
     "name": "stdin",
     "output_type": "stream",
     "text": [
      "Enter vector of R^5 [-1,0]\n",
      "Enter vector of R^5 [8,9]\n"
     ]
    },
    {
     "name": "stdout",
     "output_type": "stream",
     "text": [
      "-8\n"
     ]
    }
   ],
   "source": [
    "a=eval(input(\"Enter vector of R^5\"))\n",
    "b=eval(input(\"Enter vector of R^5\"))\n",
    "inner(a,b)"
   ]
  },
  {
   "cell_type": "markdown",
   "id": "701805c5-1455-4b07-9535-820abe0ad1c2",
   "metadata": {},
   "source": [
    "## Code to find angle bw two vectors"
   ]
  },
  {
   "cell_type": "code",
   "execution_count": 48,
   "id": "4777e4f9-8ff0-4e3e-958a-c6eed54865f1",
   "metadata": {},
   "outputs": [],
   "source": [
    "norm=(x.dot(x))**(1/2)"
   ]
  },
  {
   "cell_type": "code",
   "execution_count": 50,
   "id": "dc1ae40e-b5e6-4ecd-a504-4dad81304a69",
   "metadata": {},
   "outputs": [
    {
     "data": {
      "text/plain": [
       "15.165750888103101"
      ]
     },
     "execution_count": 50,
     "metadata": {},
     "output_type": "execute_result"
    }
   ],
   "source": [
    "norm"
   ]
  },
  {
   "cell_type": "code",
   "execution_count": 62,
   "id": "a4a27e9b-3130-4e14-80d0-6dc9bbb1a384",
   "metadata": {},
   "outputs": [
    {
     "data": {
      "text/latex": [
       "$\\displaystyle \\sqrt{230}$"
      ],
      "text/plain": [
       "sqrt(230)"
      ]
     },
     "execution_count": 62,
     "metadata": {},
     "output_type": "execute_result"
    }
   ],
   "source": [
    "x.norm()"
   ]
  },
  {
   "cell_type": "code",
   "execution_count": 58,
   "id": "ec3d3c06-2292-4260-b286-c8fe47896f93",
   "metadata": {},
   "outputs": [
    {
     "data": {
      "text/latex": [
       "$\\displaystyle \\sqrt{230}$"
      ],
      "text/plain": [
       "sqrt(230)"
      ]
     },
     "execution_count": 58,
     "metadata": {},
     "output_type": "execute_result"
    }
   ],
   "source": [
    "norm_x"
   ]
  },
  {
   "cell_type": "code",
   "execution_count": 60,
   "id": "0bca0495-60ca-4d5c-b7d1-0e730331847a",
   "metadata": {},
   "outputs": [
    {
     "data": {
      "text/plain": [
       "9.486832980505138"
      ]
     },
     "execution_count": 60,
     "metadata": {},
     "output_type": "execute_result"
    }
   ],
   "source": [
    "np.linalg.norm(y)"
   ]
  },
  {
   "cell_type": "code",
   "execution_count": 116,
   "id": "3f2063a7-cfc6-4a51-9816-0fbd4b994e5f",
   "metadata": {},
   "outputs": [
    {
     "name": "stdin",
     "output_type": "stream",
     "text": [
      "enter a vector1 [4,5]\n",
      "enter vector2 [8,0]\n"
     ]
    }
   ],
   "source": [
    "def angle(a,b):\n",
    "    dotproduct=np.dot(a,b)\n",
    "    norm_a=np.linalg.norm(a)\n",
    "    norm_b=np.linalg.norm(b)\n",
    "    cos_theta=dotproduct/(norm_a*norm_b)\n",
    "    theta=np.arccos(cos_theta)\n",
    "    return theta\n",
    "import numpy as np\n",
    "x=eval(input('enter a vector1'))\n",
    "y=eval(input('enter vector2'))\n",
    "a=np.array(x)\n",
    "b=np.array(y)"
   ]
  },
  {
   "cell_type": "code",
   "execution_count": 118,
   "id": "9593daab-ef1d-4bad-aa0c-2879bd62218e",
   "metadata": {},
   "outputs": [
    {
     "data": {
      "text/plain": [
       "0.8960553845713439"
      ]
     },
     "execution_count": 118,
     "metadata": {},
     "output_type": "execute_result"
    }
   ],
   "source": [
    "angle(a,b)"
   ]
  },
  {
   "cell_type": "code",
   "execution_count": 120,
   "id": "85b99e68-33bc-4e80-bd65-82d668b49900",
   "metadata": {},
   "outputs": [],
   "source": [
    "angle=float(angle(a,b))"
   ]
  },
  {
   "cell_type": "code",
   "execution_count": 100,
   "id": "8b0e98dc-88d6-4fb1-b085-653e46f87a34",
   "metadata": {},
   "outputs": [
    {
     "data": {
      "text/plain": [
       "numpy.float64"
      ]
     },
     "execution_count": 100,
     "metadata": {},
     "output_type": "execute_result"
    }
   ],
   "source": [
    "type(np.arccos(1))"
   ]
  },
  {
   "cell_type": "code",
   "execution_count": 180,
   "id": "079a6c43-03a7-4565-8ea6-18bc7be3a8ab",
   "metadata": {},
   "outputs": [
    {
     "ename": "TypeError",
     "evalue": "'float' object is not callable",
     "output_type": "error",
     "traceback": [
      "\u001b[1;31m---------------------------------------------------------------------------\u001b[0m",
      "\u001b[1;31mTypeError\u001b[0m                                 Traceback (most recent call last)",
      "Cell \u001b[1;32mIn[180], line 1\u001b[0m\n\u001b[1;32m----> 1\u001b[0m angleindegree\u001b[38;5;241m=\u001b[39mangle(a,b)\u001b[38;5;241m*\u001b[39m\u001b[38;5;241m180\u001b[39m\u001b[38;5;241m/\u001b[39mnp\u001b[38;5;241m.\u001b[39mpi\n",
      "\u001b[1;31mTypeError\u001b[0m: 'float' object is not callable"
     ]
    }
   ],
   "source": []
  },
  {
   "cell_type": "code",
   "execution_count": 122,
   "id": "1d2b6220-ea05-4eb4-98ab-ae390dae9bce",
   "metadata": {},
   "outputs": [],
   "source": [
    "angledeg=angle*180/np.pi"
   ]
  },
  {
   "cell_type": "code",
   "execution_count": 124,
   "id": "026f5f23-3738-4151-bb3b-5278f05fc871",
   "metadata": {},
   "outputs": [
    {
     "data": {
      "text/plain": [
       "51.34019174590991"
      ]
     },
     "execution_count": 124,
     "metadata": {},
     "output_type": "execute_result"
    }
   ],
   "source": [
    "angledeg"
   ]
  },
  {
   "cell_type": "code",
   "execution_count": 132,
   "id": "74706389-6355-4a79-8936-2a4f19605d56",
   "metadata": {},
   "outputs": [
    {
     "name": "stdin",
     "output_type": "stream",
     "text": [
      "enter the components of vector a [5,6]\n",
      "enter components of vector b [-6,5]\n"
     ]
    }
   ],
   "source": [
    "def orthogonality(a,b):\n",
    "    dot_product=np.dot(a,b)\n",
    "    return np.isclose(dot_product,0)\n",
    "a=eval(input(\"enter the components of vector a\"))\n",
    "b=eval(input(\"enter components of vector b\"))\n",
    "\n"
   ]
  },
  {
   "cell_type": "code",
   "execution_count": 134,
   "id": "757b69c9-0d16-4e60-acc1-8a0d744def03",
   "metadata": {},
   "outputs": [
    {
     "data": {
      "text/plain": [
       "True"
      ]
     },
     "execution_count": 134,
     "metadata": {},
     "output_type": "execute_result"
    }
   ],
   "source": [
    "orthogonality(a,b)"
   ]
  },
  {
   "cell_type": "markdown",
   "id": "407b618a-4818-4a2a-9bb2-1c374bcb523f",
   "metadata": {},
   "source": [
    "## Find projection of a onto b using python"
   ]
  },
  {
   "cell_type": "code",
   "execution_count": 151,
   "id": "dcf2c7aa-91e0-4856-befe-42d9b340fc4c",
   "metadata": {},
   "outputs": [
    {
     "data": {
      "text/latex": [
       "$\\displaystyle \\left[\\begin{matrix}\\frac{128}{77}\\\\\\frac{160}{77}\\\\\\frac{192}{77}\\end{matrix}\\right]$"
      ],
      "text/plain": [
       "Matrix([\n",
       "[128/77],\n",
       "[160/77],\n",
       "[192/77]])"
      ]
     },
     "execution_count": 151,
     "metadata": {},
     "output_type": "execute_result"
    }
   ],
   "source": [
    "def projatob(a,b):\n",
    "    dot_ab=a.dot(b)\n",
    "    dot_bb=b.dot(b)\n",
    "    proj=dot_ab/dot_bb*b\n",
    "    return proj\n",
    "x=sp.Matrix([1,2,3])\n",
    "y=sp.Matrix([4,5,6])\n",
    "projatob(x,y)"
   ]
  },
  {
   "cell_type": "markdown",
   "id": "d240f137-dea6-460e-a35e-42ce2c34168e",
   "metadata": {
    "jp-MarkdownHeadingCollapsed": true
   },
   "source": [
    "# find the unit vector in the direction of given vector"
   ]
  },
  {
   "cell_type": "code",
   "execution_count": 160,
   "id": "c3bac594-9d7c-4905-bbdf-ef08c87e001c",
   "metadata": {},
   "outputs": [
    {
     "name": "stdout",
     "output_type": "stream",
     "text": [
      "[0.26726124 0.53452248 0.80178373]\n"
     ]
    }
   ],
   "source": [
    "a=np.array([1,2,3])\n",
    "b=np.linalg.norm(a)\n",
    "c=a/b\n",
    "print(c)"
   ]
  },
  {
   "cell_type": "code",
   "execution_count": 162,
   "id": "18fee94b-ba8e-4d78-b8be-78fa04dd81a0",
   "metadata": {},
   "outputs": [
    {
     "name": "stdout",
     "output_type": "stream",
     "text": [
      "1.0\n"
     ]
    }
   ],
   "source": [
    "d=np.linalg.norm(c)\n",
    "print(d)"
   ]
  },
  {
   "cell_type": "markdown",
   "id": "e0601714-082c-40e6-88cd-179457112477",
   "metadata": {},
   "source": [
    "# projection of b onto a and its orthogonal projection"
   ]
  },
  {
   "cell_type": "code",
   "execution_count": 171,
   "id": "378fcb35-2023-4bc6-ac24-f37db22cee14",
   "metadata": {},
   "outputs": [],
   "source": [
    "def projbtoa(a,b):\n",
    "  dot_ab=a.dot(b)\n",
    "  dot_aa=a.dot(a)\n",
    "  proj=dot_ab/dot_aa*a\n",
    "  return proj\n"
   ]
  },
  {
   "cell_type": "code",
   "execution_count": 173,
   "id": "9961de80-fab9-4471-a9ce-8eee0b77dfe7",
   "metadata": {},
   "outputs": [
    {
     "data": {
      "text/latex": [
       "$\\displaystyle \\left[\\begin{matrix}\\frac{89}{90}\\\\\\frac{89}{18}\\\\\\frac{356}{45}\\end{matrix}\\right]$"
      ],
      "text/plain": [
       "Matrix([\n",
       "[ 89/90],\n",
       "[ 89/18],\n",
       "[356/45]])"
      ]
     },
     "execution_count": 173,
     "metadata": {},
     "output_type": "execute_result"
    }
   ],
   "source": [
    "x=sp.Matrix([1,5,8])\n",
    "y=sp.Matrix([0,5,8])\n",
    "projbtoa(x,y)"
   ]
  },
  {
   "cell_type": "code",
   "execution_count": 175,
   "id": "372aab66-6b1d-4009-bac1-66a2dad00148",
   "metadata": {},
   "outputs": [],
   "source": [
    "orthcomponent=y-projbtoa(x,y)"
   ]
  },
  {
   "cell_type": "code",
   "execution_count": 177,
   "id": "766dd229-a618-42c8-8552-bb675aaae8b7",
   "metadata": {},
   "outputs": [
    {
     "data": {
      "text/latex": [
       "$\\displaystyle \\left[\\begin{matrix}- \\frac{89}{90}\\\\\\frac{1}{18}\\\\\\frac{4}{45}\\end{matrix}\\right]$"
      ],
      "text/plain": [
       "Matrix([\n",
       "[-89/90],\n",
       "[  1/18],\n",
       "[  4/45]])"
      ]
     },
     "execution_count": 177,
     "metadata": {},
     "output_type": "execute_result"
    }
   ],
   "source": [
    "orthcomponent"
   ]
  },
  {
   "cell_type": "markdown",
   "id": "b7ac1573-b6e3-4cbb-982e-127d23051926",
   "metadata": {},
   "source": [
    "## write code to express x as sum of two vectors,\n",
    "## one is parallel to a and other is orthogonal to a"
   ]
  },
  {
   "cell_type": "code",
   "execution_count": null,
   "id": "52352698-525d-4663-aed5-cac48f6f82ec",
   "metadata": {},
   "outputs": [],
   "source": []
  }
 ],
 "metadata": {
  "kernelspec": {
   "display_name": "Python 3 (ipykernel)",
   "language": "python",
   "name": "python3"
  },
  "language_info": {
   "codemirror_mode": {
    "name": "ipython",
    "version": 3
   },
   "file_extension": ".py",
   "mimetype": "text/x-python",
   "name": "python",
   "nbconvert_exporter": "python",
   "pygments_lexer": "ipython3",
   "version": "3.7.15"
  }
 },
 "nbformat": 4,
 "nbformat_minor": 5
}
