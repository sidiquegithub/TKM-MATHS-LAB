{
 "cells": [
  {
   "cell_type": "code",
   "execution_count": 1,
   "id": "b4073f86",
   "metadata": {},
   "outputs": [],
   "source": [
    "import sympy as sp\n",
    "import numpy as np"
   ]
  },
  {
   "cell_type": "code",
   "execution_count": 2,
   "id": "c5d0e1d6",
   "metadata": {},
   "outputs": [],
   "source": [
    "# create a symbolic variable z \n",
    "\n",
    "z = sp.symbols('z')"
   ]
  },
  {
   "cell_type": "markdown",
   "id": "4f19d6e8",
   "metadata": {},
   "source": [
    "# <font color = blue> COMPLEX FUNCTIOINS"
   ]
  },
  {
   "cell_type": "markdown",
   "id": "75012abe",
   "metadata": {},
   "source": [
    "## EXAMPLES :  $sinz$, $z^2$, $tan(z)$, $ln(z)$"
   ]
  },
  {
   "cell_type": "markdown",
   "id": "5a0aac67",
   "metadata": {},
   "source": [
    "# <font color = red> QUESTION : \n",
    "\n",
    "## Store $3z+5$, $z^2$, $z^3$ , $sinz$ as f_1, f_2, g , f_3 respectively and then print them"
   ]
  },
  {
   "cell_type": "code",
   "execution_count": 3,
   "id": "8434abe7",
   "metadata": {},
   "outputs": [],
   "source": [
    "# 3z + 5\n",
    "\n",
    "f_1 = 3*z + 5\n",
    "\n",
    "# z^2\n",
    "\n",
    "f_2 = z**2\n",
    "\n",
    "# z^3\n",
    "\n",
    "g = z**3\n",
    "\n",
    "# sin(z)\n",
    "\n",
    "f_3 = sp.sin(z)"
   ]
  },
  {
   "cell_type": "code",
   "execution_count": 4,
   "id": "6734a7a7",
   "metadata": {},
   "outputs": [
    {
     "name": "stdout",
     "output_type": "stream",
     "text": [
      "3*z + 5\n",
      "z**2\n",
      "z**3\n",
      "sin(z)\n"
     ]
    }
   ],
   "source": [
    "print(f_1)\n",
    "print(f_2)\n",
    "print(g)\n",
    "print(f_3)"
   ]
  },
  {
   "cell_type": "markdown",
   "id": "5320a04e",
   "metadata": {},
   "source": [
    "# <font color = blue> REAL AND IMAGINARY PART OF A COMPLEX FUNCTION"
   ]
  },
  {
   "cell_type": "markdown",
   "id": "693e52cf",
   "metadata": {},
   "source": [
    "# CODE\n",
    "### sympy.re()\n",
    "### sympy.im()"
   ]
  },
  {
   "cell_type": "markdown",
   "id": "a77eab30",
   "metadata": {},
   "source": [
    "## <font color = blue> Real And Imaginary Parts Of $z^2$"
   ]
  },
  {
   "cell_type": "code",
   "execution_count": 5,
   "id": "a192abb7",
   "metadata": {},
   "outputs": [],
   "source": [
    "f = z**2\n",
    "real_part = sp.re(f)\n",
    "im_part = sp.im(f)"
   ]
  },
  {
   "cell_type": "code",
   "execution_count": 6,
   "id": "41aec657",
   "metadata": {},
   "outputs": [
    {
     "name": "stdout",
     "output_type": "stream",
     "text": [
      "re(z)**2 - im(z)**2\n",
      "2*re(z)*im(z)\n"
     ]
    }
   ],
   "source": [
    "print(real_part)\n",
    "print(im_part)"
   ]
  },
  {
   "cell_type": "markdown",
   "id": "af39a4d7",
   "metadata": {},
   "source": [
    "<font color = green>NOTE:  re(z) = x and im(z) = y"
   ]
  },
  {
   "cell_type": "markdown",
   "id": "b2c42504",
   "metadata": {},
   "source": [
    "## <font color = RED>Practice Question 1"
   ]
  },
  {
   "cell_type": "markdown",
   "id": "532f73ae",
   "metadata": {},
   "source": [
    "1) Find Real And Imaginary parts of $z^3$, $sin(z)$, $cos(z)$, $sinh(z)$, and $cosh(z)$"
   ]
  },
  {
   "cell_type": "code",
   "execution_count": 7,
   "id": "25a37199",
   "metadata": {},
   "outputs": [],
   "source": [
    "# z^3\n",
    "\n",
    "f = z**3\n",
    "real_part = sp.re(f)\n",
    "im_part = sp.im(f)"
   ]
  },
  {
   "cell_type": "code",
   "execution_count": 8,
   "id": "4b6ca278",
   "metadata": {},
   "outputs": [
    {
     "name": "stdout",
     "output_type": "stream",
     "text": [
      "re(z)**3 - 3*re(z)*im(z)**2\n",
      "3*re(z)**2*im(z) - im(z)**3\n"
     ]
    }
   ],
   "source": [
    "print(real_part)\n",
    "print(im_part)"
   ]
  },
  {
   "cell_type": "code",
   "execution_count": 9,
   "id": "756fbf42",
   "metadata": {},
   "outputs": [
    {
     "data": {
      "text/plain": [
       "(sin(re(z))*cosh(im(z)), cos(re(z))*sinh(im(z)))"
      ]
     },
     "execution_count": 9,
     "metadata": {},
     "output_type": "execute_result"
    }
   ],
   "source": [
    "# Define sin(z)\n",
    "f = sp.sin(z)\n",
    "\n",
    "# Calculate the real and imaginary parts of sin(z)\n",
    "real_part = sp.re(f)\n",
    "im_part = sp.im(f)\n",
    "\n",
    "real_part, im_part"
   ]
  },
  {
   "cell_type": "code",
   "execution_count": 10,
   "id": "05cd5e05",
   "metadata": {},
   "outputs": [
    {
     "data": {
      "text/plain": [
       "(cos(im(z))*sinh(re(z)), sin(im(z))*cosh(re(z)))"
      ]
     },
     "execution_count": 10,
     "metadata": {},
     "output_type": "execute_result"
    }
   ],
   "source": [
    "# Define sinh(z)\n",
    "f = sp.sinh(z)\n",
    "\n",
    "# Calculate the real and imaginary parts of sinh(z)\n",
    "real_part = sp.re(f)\n",
    "im_part = sp.im(f)\n",
    "\n",
    "real_part, im_part"
   ]
  },
  {
   "cell_type": "code",
   "execution_count": 25,
   "id": "0582f992",
   "metadata": {},
   "outputs": [
    {
     "name": "stdout",
     "output_type": "stream",
     "text": [
      "The real part of f(z) = cosh(z) is: cos(im(z))*cosh(re(z))\n",
      "The imaginary part of f(z) = cosh(z) is: sin(im(z))*sinh(re(z))\n"
     ]
    }
   ],
   "source": [
    "# Define coshz\n",
    "f_z = sp.cosh(z)\n",
    " \n",
    "# Separate real and imaginary parts\n",
    "real_part = sp.re(f_z)\n",
    "imaginary_part = sp.im(f_z)\n",
    " \n",
    "# Print the results\n",
    "print(f\"The real part of f(z) = {f_z} is: {real_part}\")\n",
    "print(f\"The imaginary part of f(z) = {f_z} is: {imaginary_part}\")"
   ]
  },
  {
   "cell_type": "markdown",
   "id": "b37e8c45",
   "metadata": {},
   "source": [
    "## <font color = blue>ANALYTIC FUNCTIONS"
   ]
  },
  {
   "cell_type": "markdown",
   "id": "46081571",
   "metadata": {},
   "source": [
    "# $\\frac{\\partial u}{\\partial x} = \\frac{\\partial v}{\\partial y}$\n",
    "# $\\frac{\\partial u}{\\partial y} = - \\frac{\\partial v}{\\partial x}$"
   ]
  },
  {
   "cell_type": "markdown",
   "id": "8c980f9e",
   "metadata": {},
   "source": [
    "# <font color = red OR>"
   ]
  },
  {
   "cell_type": "markdown",
   "id": "03a625e5",
   "metadata": {},
   "source": [
    "# $$ OR $$"
   ]
  },
  {
   "cell_type": "markdown",
   "id": "8625e404",
   "metadata": {},
   "source": [
    "# $\\frac{\\partial u}{\\partial x} - \\frac{\\partial v}{\\partial y} = 0$\n",
    "# $\\frac{\\partial u}{\\partial y} +  \\frac{\\partial v}{\\partial x} = 0$"
   ]
  },
  {
   "cell_type": "markdown",
   "id": "ea3daef0",
   "metadata": {},
   "source": [
    "------"
   ]
  },
  {
   "cell_type": "markdown",
   "id": "3fbbc268",
   "metadata": {},
   "source": [
    "# <font color = blue> CODE \n",
    "\n",
    "#  For $\\frac{\\partial u}{\\partial x}$ use \n",
    "    \n",
    "#    sympy.diff(u,x)"
   ]
  },
  {
   "cell_type": "markdown",
   "id": "d9196b33",
   "metadata": {},
   "source": [
    "## <font color = RED>Practice Question 2"
   ]
  },
  {
   "cell_type": "markdown",
   "id": "37c2645d",
   "metadata": {},
   "source": [
    "### Write a function in Python which takes real and imaginary part of a complex function  as input and check whether it is analytic or not "
   ]
  },
  {
   "cell_type": "markdown",
   "id": "7bf935c3",
   "metadata": {},
   "source": [
    "### STEP1 : Define a function tat takes 2 inputs, $u, v$\n",
    "### STEP2 : Form 4 partial derivatives and store it \n",
    "### STEP3 : Store 2 CR equations\n",
    "### STEP4 : Using if loop check values of CR\n",
    "### STEP5 : Print(Analytic Or Non Analytic)"
   ]
  },
  {
   "cell_type": "code",
   "execution_count": 11,
   "id": "4c507866",
   "metadata": {},
   "outputs": [],
   "source": [
    "# Define the variables\n",
    "x, y = sp.symbols('x y')"
   ]
  },
  {
   "cell_type": "code",
   "execution_count": 19,
   "id": "edab47ac",
   "metadata": {},
   "outputs": [],
   "source": [
    "def analytic(u,v):\n",
    "    \"\"\"This function takes the real and imaginary parts as inputs\n",
    "    and determines whether it is analytic or not\"\"\"   \n",
    "    u_x = sp.diff(u,x)\n",
    "    u_y = sp.diff(u,y)\n",
    "    v_x = sp.diff(v,x)\n",
    "    v_y = sp.diff(v,y)\n",
    "    \n",
    "    cr_1 = sp.simplify(u_x- v_y)\n",
    "    cr_2 = sp.simplify(u_y + v_x)\n",
    "    \n",
    "    if cr_1 == 0 and cr_2 == 0:\n",
    "        print('Analytic')\n",
    "    else:\n",
    "        print(\"Non Analytic\")"
   ]
  },
  {
   "cell_type": "markdown",
   "id": "adad2809",
   "metadata": {},
   "source": [
    "To check $x^3 - 3xy^2 + i(3x^2y - y^3)$ is analytic or not "
   ]
  },
  {
   "cell_type": "code",
   "execution_count": 20,
   "id": "e5fd85ab",
   "metadata": {},
   "outputs": [],
   "source": [
    "# Define the real and imaginary parts of the function\n",
    "u =x**3-3*x*y**2    \n",
    "v = 3*x**2*y-y**3\n",
    "\n",
    "# Calling the function\n",
    "analytic(u,v)"
   ]
  },
  {
   "cell_type": "markdown",
   "id": "ae3654d4",
   "metadata": {},
   "source": [
    "To check $x^3 + 3xy^2 + i(3x^2y - y^3)$ is analytic or not"
   ]
  },
  {
   "cell_type": "code",
   "execution_count": 22,
   "id": "b6e49009",
   "metadata": {},
   "outputs": [
    {
     "name": "stdout",
     "output_type": "stream",
     "text": [
      "Non Analytic\n"
     ]
    }
   ],
   "source": [
    "# Define the real and imaginary parts of the function\n",
    "u =x**3+3*x*y**2    \n",
    "v = 3*x**2*y-y**3   \n",
    "\n",
    "# Calling the function\n",
    "analytic(u,v)"
   ]
  },
  {
   "cell_type": "markdown",
   "id": "3846c66c",
   "metadata": {},
   "source": [
    "To check $sinx coshy + i cosx sinhy $ is analytic or not"
   ]
  },
  {
   "cell_type": "code",
   "execution_count": 23,
   "id": "c0ffd16c",
   "metadata": {},
   "outputs": [],
   "source": [
    "# Define the real and imaginary parts of the function\n",
    "u = sp.sin(x)*sp.cosh(y)    # Example real part\n",
    "v = sp.cos(x)*sp.sinh(y)   # Example imaginary part"
   ]
  },
  {
   "cell_type": "code",
   "execution_count": 24,
   "id": "0f3a373a",
   "metadata": {},
   "outputs": [
    {
     "name": "stdout",
     "output_type": "stream",
     "text": [
      "Analytic\n"
     ]
    }
   ],
   "source": [
    "analytic(u,v)"
   ]
  },
  {
   "cell_type": "markdown",
   "id": "7ad88165",
   "metadata": {},
   "source": [
    "## <font color = RED>Practice Question 3\n",
    "    \n",
    "    Redefine the function so that it also returns the values of Cauchy-Riemann equations. "
   ]
  },
  {
   "cell_type": "code",
   "execution_count": 26,
   "id": "bfe450d0",
   "metadata": {},
   "outputs": [],
   "source": [
    "def analytic_2(u,v):\n",
    "    \"\"\"This function takes the real and imaginary parts as inputs\n",
    "    and determines whether it is analytic or not\"\"\"   \n",
    "    u_x = sp.diff(u,x)\n",
    "    u_y = sp.diff(u,y)\n",
    "    v_x = sp.diff(v,x)\n",
    "    v_y = sp.diff(v,y)\n",
    "    \n",
    "    cr_1 = sp.simplify(u_x- v_y)\n",
    "    cr_2 = sp.simplify(u_y + v_x)\n",
    "    \n",
    "    if cr_1 == 0 and cr_2 == 0:\n",
    "        return True, cr_1, cr_2\n",
    "    else:\n",
    "        return False, cr_2, cr_2"
   ]
  },
  {
   "cell_type": "markdown",
   "id": "80c89114",
   "metadata": {},
   "source": [
    "To check $x^3 - 3xy^2 + i(3x^2y - y^3)$ is analytic or not "
   ]
  },
  {
   "cell_type": "code",
   "execution_count": 28,
   "id": "3d902e0d",
   "metadata": {},
   "outputs": [
    {
     "data": {
      "text/plain": [
       "(True, 0, 0)"
      ]
     },
     "execution_count": 28,
     "metadata": {},
     "output_type": "execute_result"
    }
   ],
   "source": [
    "# Define the real and imaginary parts of the function\n",
    "u =x**3-3*x*y**2    \n",
    "v = 3*x**2*y-y**3\n",
    "\n",
    "# Calling the function\n",
    "analytic_2(u,v)"
   ]
  },
  {
   "cell_type": "markdown",
   "id": "413ed30b",
   "metadata": {},
   "source": [
    "To check $x^3 - 3xy^2 + i(3x^2y - y^3)$ is analytic or not "
   ]
  },
  {
   "cell_type": "code",
   "execution_count": 32,
   "id": "5e2d84a1",
   "metadata": {},
   "outputs": [
    {
     "data": {
      "text/plain": [
       "(False, 12*x*y, 12*x*y)"
      ]
     },
     "execution_count": 32,
     "metadata": {},
     "output_type": "execute_result"
    }
   ],
   "source": [
    "# Define the real and imaginary parts of the function\n",
    "u =x**3+3*x*y**2    \n",
    "v = 3*x**2*y-y**3   \n",
    "\n",
    "# Calling the function\n",
    "analytic_2(u,v)"
   ]
  },
  {
   "cell_type": "markdown",
   "id": "d6f83d09",
   "metadata": {},
   "source": [
    "## <font color = Red>Practice Question 4 (HOME WORK)\n",
    "\n",
    "## Try to combine above two concepts and write a python function which takes a complex function$f(z)$ as input and says analytic or not"
   ]
  },
  {
   "cell_type": "markdown",
   "id": "2cb8d104",
   "metadata": {},
   "source": [
    "-----\n",
    "----\n",
    "-----"
   ]
  },
  {
   "cell_type": "markdown",
   "id": "5c16bea5",
   "metadata": {},
   "source": [
    "## <font color = blue> HARNONIC FUNCTIONS "
   ]
  },
  {
   "cell_type": "markdown",
   "id": "c52ee051",
   "metadata": {},
   "source": [
    "# $\\frac{\\partial^2 u}{\\partial x^2} + \\frac{\\partial^2 u}{\\partial y^2} = 0$"
   ]
  },
  {
   "cell_type": "code",
   "execution_count": null,
   "id": "c241b9eb",
   "metadata": {},
   "outputs": [],
   "source": []
  },
  {
   "cell_type": "markdown",
   "id": "f7982a79",
   "metadata": {},
   "source": [
    "# <font color = blue> CODE \n",
    "\n",
    "#  For $\\frac{\\partial^2 u}{\\partial x^2}$ use \n",
    "    \n",
    "#    sympy.diff(u,x,x)"
   ]
  },
  {
   "cell_type": "code",
   "execution_count": null,
   "id": "27456f82",
   "metadata": {},
   "outputs": [],
   "source": []
  },
  {
   "cell_type": "markdown",
   "id": "2a3cfecf",
   "metadata": {},
   "source": [
    "# <font color = Red>Practice Question 4"
   ]
  },
  {
   "cell_type": "markdown",
   "id": "56e23b9a",
   "metadata": {},
   "source": [
    "## Write a python function which takes $u$ a function in $x$ and $y$ as inputs and check it is harmonic or not "
   ]
  },
  {
   "cell_type": "markdown",
   "id": "4a00937a",
   "metadata": {},
   "source": [
    "# CHECK HARMONIC OR NOT OF $x^2 + y^2$"
   ]
  },
  {
   "cell_type": "code",
   "execution_count": null,
   "id": "4c7b7934",
   "metadata": {},
   "outputs": [],
   "source": []
  },
  {
   "cell_type": "code",
   "execution_count": null,
   "id": "ea3b2b6a",
   "metadata": {},
   "outputs": [],
   "source": []
  },
  {
   "cell_type": "code",
   "execution_count": null,
   "id": "c92a7d71",
   "metadata": {},
   "outputs": [],
   "source": []
  }
 ],
 "metadata": {
  "kernelspec": {
   "display_name": "Python 3 (ipykernel)",
   "language": "python",
   "name": "python3"
  },
  "language_info": {
   "codemirror_mode": {
    "name": "ipython",
    "version": 3
   },
   "file_extension": ".py",
   "mimetype": "text/x-python",
   "name": "python",
   "nbconvert_exporter": "python",
   "pygments_lexer": "ipython3",
   "version": "3.7.15"
  }
 },
 "nbformat": 4,
 "nbformat_minor": 5
}
