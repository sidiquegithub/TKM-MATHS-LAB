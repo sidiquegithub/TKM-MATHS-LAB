{
 "cells": [
  {
   "cell_type": "code",
   "execution_count": 13,
   "id": "e3172aa1",
   "metadata": {},
   "outputs": [
    {
     "data": {
      "text/latex": [
       "$\\displaystyle \\left\\{0\\right\\}$"
      ],
      "text/plain": [
       "{0}"
      ]
     },
     "execution_count": 13,
     "metadata": {},
     "output_type": "execute_result"
    }
   ],
   "source": [
    "import sympy as sp\n",
    "\n",
    "# Define x and y as real symbols\n",
    "x, y = sp.symbols('x y', real=True)\n",
    "\n",
    "# Define z as x + iy\n",
    "z = x + sp.I * y\n",
    "\n",
    "f = sp.exp(1/z)\n",
    "# Find the singularities (non-analytic points)\n",
    "singularities = sp.singularities(f, z)\n",
    "singularities"
   ]
  },
  {
   "cell_type": "code",
   "execution_count": 14,
   "id": "d5a69c1e",
   "metadata": {},
   "outputs": [
    {
     "data": {
      "text/latex": [
       "$\\displaystyle \\left\\{1, 2\\right\\}$"
      ],
      "text/plain": [
       "{1, 2}"
      ]
     },
     "execution_count": 14,
     "metadata": {},
     "output_type": "execute_result"
    }
   ],
   "source": [
    "f = 1/((z-1)*(z-2))\n",
    "sing = sp.singularities(f,z)\n",
    "sing"
   ]
  },
  {
   "cell_type": "code",
   "execution_count": 15,
   "id": "51a5bb1d",
   "metadata": {},
   "outputs": [
    {
     "data": {
      "text/latex": [
       "$\\displaystyle \\left\\{2 n \\pi + \\frac{\\pi}{2}\\; \\middle|\\; n \\in \\mathbb{Z}\\right\\} \\cup \\left\\{2 n \\pi + \\frac{3 \\pi}{2}\\; \\middle|\\; n \\in \\mathbb{Z}\\right\\}$"
      ],
      "text/plain": [
       "Union(ImageSet(Lambda(_n, 2*_n*pi + pi/2), Integers), ImageSet(Lambda(_n, 2*_n*pi + 3*pi/2), Integers))"
      ]
     },
     "execution_count": 15,
     "metadata": {},
     "output_type": "execute_result"
    }
   ],
   "source": [
    "f = sp.tan(z)\n",
    "sing = sp.singularities(f,z)\n",
    "sing"
   ]
  },
  {
   "cell_type": "code",
   "execution_count": 16,
   "id": "09df046a",
   "metadata": {},
   "outputs": [
    {
     "data": {
      "text/latex": [
       "$\\displaystyle \\emptyset$"
      ],
      "text/plain": [
       "EmptySet"
      ]
     },
     "execution_count": 16,
     "metadata": {},
     "output_type": "execute_result"
    }
   ],
   "source": [
    "f = sp.sinh(z)\n",
    "sing = sp.singularities(f,z)\n",
    "sing"
   ]
  },
  {
   "cell_type": "code",
   "execution_count": 17,
   "id": "ba826d83",
   "metadata": {},
   "outputs": [
    {
     "data": {
      "text/latex": [
       "$\\displaystyle \\emptyset$"
      ],
      "text/plain": [
       "EmptySet"
      ]
     },
     "execution_count": 17,
     "metadata": {},
     "output_type": "execute_result"
    }
   ],
   "source": [
    "f = sp.sin(z)\n",
    "sing = sp.singularities(f,z)\n",
    "sing"
   ]
  },
  {
   "cell_type": "code",
   "execution_count": 18,
   "id": "f40f3714",
   "metadata": {},
   "outputs": [
    {
     "data": {
      "text/latex": [
       "$\\displaystyle \\emptyset$"
      ],
      "text/plain": [
       "EmptySet"
      ]
     },
     "execution_count": 18,
     "metadata": {},
     "output_type": "execute_result"
    }
   ],
   "source": [
    "f = sp.tanh(z)\n",
    "sing = sp.singularities(f,z)\n",
    "sing"
   ]
  },
  {
   "cell_type": "code",
   "execution_count": 19,
   "id": "faaf047f",
   "metadata": {},
   "outputs": [
    {
     "data": {
      "text/latex": [
       "$\\displaystyle \\emptyset$"
      ],
      "text/plain": [
       "EmptySet"
      ]
     },
     "execution_count": 19,
     "metadata": {},
     "output_type": "execute_result"
    }
   ],
   "source": [
    "f = sp.tanh(z)\n",
    "sing = sp.singularities(f,z)\n",
    "sing"
   ]
  },
  {
   "cell_type": "code",
   "execution_count": 12,
   "id": "2c231b5c",
   "metadata": {},
   "outputs": [
    {
     "data": {
      "text/latex": [
       "$\\displaystyle \\left\\{i, 2 i\\right\\}$"
      ],
      "text/plain": [
       "{I, 2*I}"
      ]
     },
     "execution_count": 12,
     "metadata": {},
     "output_type": "execute_result"
    }
   ],
   "source": [
    "f = 1/((z-sp.I)*(z-2*sp.I))\n",
    "sing = sp.singularities(f,z)\n",
    "sing"
   ]
  },
  {
   "cell_type": "code",
   "execution_count": null,
   "id": "56c4d4b6",
   "metadata": {},
   "outputs": [],
   "source": [
    "# Integral of 1 / z over circle with centre 2 and radius 1"
   ]
  },
  {
   "cell_type": "code",
   "execution_count": null,
   "id": "5132ac79",
   "metadata": {},
   "outputs": [],
   "source": []
  },
  {
   "cell_type": "code",
   "execution_count": null,
   "id": "5bd567bb",
   "metadata": {},
   "outputs": [],
   "source": [
    "# Explantion using figures"
   ]
  },
  {
   "cell_type": "code",
   "execution_count": 31,
   "id": "16ad6ddb",
   "metadata": {},
   "outputs": [
    {
     "data": {
      "image/png": "[encoded data removed]",
      "text/plain": [
       "<Figure size 640x480 with 1 Axes>"
      ]
     },
     "metadata": {},
     "output_type": "display_data"
    }
   ],
   "source": [
    "from sympy.plotting import plot_implicit\n",
    "\n",
    "circle_eq = (x-2)**2 +y**2 - 1**2\n",
    "p = plot_implicit(sp.Eq(circle_eq,0),(x,-3,3),(y,-2,2))"
   ]
  },
  {
   "cell_type": "code",
   "execution_count": null,
   "id": "0ee4a9b2",
   "metadata": {},
   "outputs": [],
   "source": []
  },
  {
   "cell_type": "code",
   "execution_count": null,
   "id": "d047fa06",
   "metadata": {},
   "outputs": [],
   "source": []
  },
  {
   "cell_type": "code",
   "execution_count": null,
   "id": "396a35f1",
   "metadata": {},
   "outputs": [],
   "source": []
  },
  {
   "cell_type": "code",
   "execution_count": 4,
   "id": "1a0a159e",
   "metadata": {},
   "outputs": [
    {
     "data": {
      "text/latex": [
       "$\\displaystyle 2 i \\pi$"
      ],
      "text/plain": [
       "2*I*pi"
      ]
     },
     "execution_count": 4,
     "metadata": {},
     "output_type": "execute_result"
    }
   ],
   "source": [
    "# integrate 1/z around unit circle\n",
    "\n",
    "theta = sp.symbols('theta', real = True)\n",
    "\n",
    "z = sp.exp(sp.I*theta)\n",
    "\n",
    "# Compute the differential dz\n",
    "dz = sp.diff(z, theta)\n",
    "\n",
    "f = 1 / z\n",
    "\n",
    "integral = sp.integrate(f * dz, (theta, 0, 2 * sp.pi))\n",
    "integral"
   ]
  },
  {
   "cell_type": "code",
   "execution_count": null,
   "id": "49ca570f",
   "metadata": {},
   "outputs": [],
   "source": []
  },
  {
   "cell_type": "code",
   "execution_count": 30,
   "id": "38a476d5",
   "metadata": {},
   "outputs": [
    {
     "data": {
      "image/png": "[encoded data removed]",
      "text/plain": [
       "<Figure size 640x480 with 1 Axes>"
      ]
     },
     "metadata": {},
     "output_type": "display_data"
    }
   ],
   "source": [
    "from sympy.plotting import plot_implicit\n",
    "\n",
    "circle_eq = x**2 +y**2 - 1**2\n",
    "p = plot_implicit(sp.Eq(circle_eq,0),(x,-3,3),(y,-2,2))"
   ]
  },
  {
   "cell_type": "code",
   "execution_count": null,
   "id": "c42c112a",
   "metadata": {},
   "outputs": [],
   "source": []
  },
  {
   "cell_type": "code",
   "execution_count": null,
   "id": "20406128",
   "metadata": {},
   "outputs": [],
   "source": []
  },
  {
   "cell_type": "code",
   "execution_count": null,
   "id": "6f727e14",
   "metadata": {},
   "outputs": [],
   "source": []
  },
  {
   "cell_type": "code",
   "execution_count": null,
   "id": "fb0c53f9",
   "metadata": {},
   "outputs": [],
   "source": []
  },
  {
   "cell_type": "code",
   "execution_count": 5,
   "id": "668066bf",
   "metadata": {},
   "outputs": [
    {
     "data": {
      "text/latex": [
       "$\\displaystyle 0$"
      ],
      "text/plain": [
       "0"
      ]
     },
     "execution_count": 5,
     "metadata": {},
     "output_type": "execute_result"
    }
   ],
   "source": [
    "theta = sp.symbols('theta', real = True)\n",
    "\n",
    "z = sp.exp(sp.I*theta) + 3\n",
    "\n",
    "# Compute the differential dz\n",
    "dz = sp.diff(z, theta)\n",
    "\n",
    "f = 1 / z\n",
    "\n",
    "integral = sp.integrate(f * dz, (theta, 0, 2 * sp.pi))\n",
    "integral"
   ]
  },
  {
   "cell_type": "code",
   "execution_count": null,
   "id": "f1938d4d",
   "metadata": {},
   "outputs": [],
   "source": []
  },
  {
   "cell_type": "code",
   "execution_count": 2,
   "id": "97f53a8b",
   "metadata": {},
   "outputs": [
    {
     "data": {
      "text/latex": [
       "$\\displaystyle \\left\\{1, 2\\right\\}$"
      ],
      "text/plain": [
       "{1, 2}"
      ]
     },
     "execution_count": 2,
     "metadata": {},
     "output_type": "execute_result"
    }
   ],
   "source": [
    "f = 1 / ((z - 1) * (z - 2))\n",
    "\n",
    "# Find the singularities (non-analytic points)\n",
    "singularities = sp.singularities(f, z)\n",
    "\n",
    "singularities"
   ]
  }
 ],
 "metadata": {
  "kernelspec": {
   "display_name": "Python 3 (ipykernel)",
   "language": "python",
   "name": "python3"
  },
  "language_info": {
   "codemirror_mode": {
    "name": "ipython",
    "version": 3
   },
   "file_extension": ".py",
   "mimetype": "text/x-python",
   "name": "python",
   "nbconvert_exporter": "python",
   "pygments_lexer": "ipython3",
   "version": "3.7.15"
  }
 },
 "nbformat": 4,
 "nbformat_minor": 5
}
