{
 "cells": [
  {
   "cell_type": "code",
   "execution_count": 4,
   "id": "456f4c3b",
   "metadata": {},
   "outputs": [],
   "source": [
    "import sympy as sp"
   ]
  },
  {
   "cell_type": "code",
   "execution_count": 5,
   "id": "5852a6b8",
   "metadata": {},
   "outputs": [
    {
     "data": {
      "text/latex": [
       "$\\displaystyle x + i y$"
      ],
      "text/plain": [
       "x + I*y"
      ]
     },
     "execution_count": 5,
     "metadata": {},
     "output_type": "execute_result"
    }
   ],
   "source": [
    "# Define x and y as real symbols\n",
    "x, y = sp.symbols('x y', real=True)\n",
    "\n",
    "# Define z as x + iy\n",
    "z = x + sp.I * y\n",
    "\n",
    "# Display z\n",
    "z"
   ]
  },
  {
   "cell_type": "markdown",
   "id": "48277a0e",
   "metadata": {},
   "source": [
    "## <font color = blue> REAL AND IMAGINARY PART OF A COMPLEX FUNCTION"
   ]
  },
  {
   "cell_type": "markdown",
   "id": "31685cb8",
   "metadata": {},
   "source": [
    "## <font color = green> CODE\n",
    "### sympy.re()\n",
    "### sympy.im()"
   ]
  },
  {
   "cell_type": "markdown",
   "id": "83eb593b",
   "metadata": {},
   "source": [
    "## <font color = RED>Practice Question 1"
   ]
  },
  {
   "cell_type": "markdown",
   "id": "a7b701a4",
   "metadata": {},
   "source": [
    "Find real and imaginary parts of $z^3$, $sin(z)$, $sinhz$, and $coshz$"
   ]
  },
  {
   "cell_type": "markdown",
   "id": "a6a60c82",
   "metadata": {},
   "source": [
    "## <font color = RED>Answers"
   ]
  },
  {
   "cell_type": "markdown",
   "id": "dec53f47",
   "metadata": {},
   "source": [
    "To find real and imaginary parts of $z^3$"
   ]
  },
  {
   "cell_type": "code",
   "execution_count": 3,
   "id": "0c204c82",
   "metadata": {},
   "outputs": [
    {
     "name": "stdout",
     "output_type": "stream",
     "text": [
      "x**3 - 3*x*y**2\n",
      "3*x**2*y - y**3\n"
     ]
    }
   ],
   "source": [
    "f = z**3\n",
    "print(sp.re(f))\n",
    "print(sp.im(f))"
   ]
  },
  {
   "cell_type": "markdown",
   "id": "885b5ea3",
   "metadata": {},
   "source": [
    "Real and imaginary parts of $sinz$"
   ]
  },
  {
   "cell_type": "code",
   "execution_count": 4,
   "id": "8631382c",
   "metadata": {},
   "outputs": [
    {
     "data": {
      "text/plain": [
       "(sin(x)*cosh(y), cos(x)*sinh(y))"
      ]
     },
     "execution_count": 4,
     "metadata": {},
     "output_type": "execute_result"
    }
   ],
   "source": [
    "f = sp.sin(z)\n",
    "sp.re(f) , sp.im(f)"
   ]
  },
  {
   "cell_type": "markdown",
   "id": "f667c96b",
   "metadata": {},
   "source": [
    "Real and imaginary parts of $sinhz$"
   ]
  },
  {
   "cell_type": "code",
   "execution_count": 5,
   "id": "bd87e61d",
   "metadata": {},
   "outputs": [
    {
     "data": {
      "text/plain": [
       "(cos(y)*sinh(x), sin(y)*cosh(x))"
      ]
     },
     "execution_count": 5,
     "metadata": {},
     "output_type": "execute_result"
    }
   ],
   "source": [
    "f = sp.sinh(z)\n",
    "sp.re(f) , sp.im(f)"
   ]
  },
  {
   "cell_type": "code",
   "execution_count": 6,
   "id": "94a19de9",
   "metadata": {},
   "outputs": [
    {
     "name": "stdout",
     "output_type": "stream",
     "text": [
      "The real part of f(z) = cosh(x + I*y) is: cos(y)*cosh(x)\n",
      "The imaginary part of f(z) = cosh(x + I*y) is: sin(y)*sinh(x)\n"
     ]
    }
   ],
   "source": [
    "# Define coshz\n",
    "f_z = sp.cosh(z)\n",
    " \n",
    "# Separate real and imaginary parts\n",
    "real_part = sp.re(f_z)\n",
    "imaginary_part = sp.im(f_z)\n",
    " \n",
    "# Print the results\n",
    "print(f\"The real part of f(z) = {f_z} is: {real_part}\")\n",
    "print(f\"The imaginary part of f(z) = {f_z} is: {imaginary_part}\")"
   ]
  },
  {
   "cell_type": "markdown",
   "id": "9d22fa20",
   "metadata": {},
   "source": [
    "## <font color = blue>ANALYTIC FUNCTIONS"
   ]
  },
  {
   "cell_type": "markdown",
   "id": "4e998e3c",
   "metadata": {},
   "source": [
    "# $\\frac{\\partial u}{\\partial x} = \\frac{\\partial v}{\\partial y}$\n",
    "# $\\frac{\\partial u}{\\partial y} = - \\frac{\\partial v}{\\partial x}$"
   ]
  },
  {
   "cell_type": "markdown",
   "id": "e53c60ac",
   "metadata": {},
   "source": [
    "# $$ OR $$"
   ]
  },
  {
   "cell_type": "markdown",
   "id": "54e642f4",
   "metadata": {},
   "source": [
    "# $\\frac{\\partial u}{\\partial x} - \\frac{\\partial v}{\\partial y} = 0$\n",
    "# $\\frac{\\partial u}{\\partial y} +  \\frac{\\partial v}{\\partial x} = 0$"
   ]
  },
  {
   "cell_type": "markdown",
   "id": "6ddc315a",
   "metadata": {},
   "source": [
    "## <font color = green> CODE \n",
    "\n",
    "#  For $\\frac{\\partial u}{\\partial x}$ use \n",
    "    \n",
    "#    sympy.diff(u,x)"
   ]
  },
  {
   "cell_type": "markdown",
   "id": "3b4ddc50",
   "metadata": {},
   "source": [
    "## <font color = RED>Practice Question 2"
   ]
  },
  {
   "cell_type": "markdown",
   "id": "f92d9f4a",
   "metadata": {},
   "source": [
    "### Write a function in Python which takes real and imaginary part of a complex function  as input and check whether it is analytic or not "
   ]
  },
  {
   "cell_type": "code",
   "execution_count": 7,
   "id": "9b3ab48a",
   "metadata": {},
   "outputs": [],
   "source": [
    "def analytic(u,v):\n",
    "    \"\"\"This function takes the real and imaginary parts as inputs\n",
    "    and determines whether it is analytic or not\"\"\"   \n",
    "    u_x = sp.diff(u,x)\n",
    "    u_y = sp.diff(u,y)\n",
    "    v_x = sp.diff(v,x)\n",
    "    v_y = sp.diff(v,y)\n",
    "    \n",
    "    cr_1 = sp.simplify(u_x- v_y)\n",
    "    cr_2 = sp.simplify(u_y + v_x)\n",
    "    \n",
    "    if cr_1 == 0 and cr_2 == 0:\n",
    "        print('Analytic')\n",
    "    else:\n",
    "        print(\"Non Analytic\")"
   ]
  },
  {
   "cell_type": "markdown",
   "id": "aa5d1b74",
   "metadata": {},
   "source": [
    "To check $x^3 - 3xy^2 + i(3x^2y - y^3)$ is analytic or not"
   ]
  },
  {
   "cell_type": "code",
   "execution_count": 8,
   "id": "641ef5d3",
   "metadata": {},
   "outputs": [
    {
     "name": "stdout",
     "output_type": "stream",
     "text": [
      "Analytic\n"
     ]
    }
   ],
   "source": [
    "# Define the real and imaginary parts of the function\n",
    "u =x**3-3*x*y**2    \n",
    "v = 3*x**2*y-y**3\n",
    "\n",
    "# Calling the function\n",
    "analytic(u,v)"
   ]
  },
  {
   "cell_type": "markdown",
   "id": "f62f7679",
   "metadata": {},
   "source": [
    "To check $x^3 + 3xy^2 + i(3x^2y - y^3)$ is analytic or not"
   ]
  },
  {
   "cell_type": "code",
   "execution_count": 9,
   "id": "6a723d33",
   "metadata": {},
   "outputs": [
    {
     "name": "stdout",
     "output_type": "stream",
     "text": [
      "Non Analytic\n"
     ]
    }
   ],
   "source": [
    "# Define the real and imaginary parts of the function\n",
    "u =x**3+3*x*y**2    \n",
    "v = 3*x**2*y-y**3   \n",
    "\n",
    "# Calling the function\n",
    "analytic(u,v)"
   ]
  },
  {
   "cell_type": "markdown",
   "id": "2d604cea",
   "metadata": {},
   "source": [
    "## <font color = RED>Practice Question 3\n",
    "    Redefine the function so that it also returns the values of Cauchy-Riemann equations."
   ]
  },
  {
   "cell_type": "markdown",
   "id": "0e079a7f",
   "metadata": {},
   "source": [
    "## <font color = RED> Answer"
   ]
  },
  {
   "cell_type": "code",
   "execution_count": 10,
   "id": "8149a44f",
   "metadata": {},
   "outputs": [],
   "source": [
    "def analytic_2(u,v):\n",
    "    \"\"\"This function takes the real and imaginary parts as inputs\n",
    "    and determines whether it is analytic or not\"\"\"   \n",
    "    u_x = sp.diff(u,x)  # We already defined x and y as real numbers at the begining of this jupyter notebook file\n",
    "    u_y = sp.diff(u,y)\n",
    "    v_x = sp.diff(v,x)\n",
    "    v_y = sp.diff(v,y)\n",
    "    \n",
    "    cr_1 = sp.simplify(u_x- v_y)\n",
    "    cr_2 = sp.simplify(u_y + v_x)\n",
    "    \n",
    "    if cr_1 == 0 and cr_2 == 0:\n",
    "        return True, cr_1, cr_2\n",
    "    else:\n",
    "        return False, cr_2, cr_2"
   ]
  },
  {
   "cell_type": "markdown",
   "id": "7f856565",
   "metadata": {},
   "source": [
    "To check $x^3 - 3xy^2 + i(3x^2y - y^3)$ is analytic or not "
   ]
  },
  {
   "cell_type": "code",
   "execution_count": 11,
   "id": "2980826d",
   "metadata": {},
   "outputs": [
    {
     "data": {
      "text/plain": [
       "(True, 0, 0)"
      ]
     },
     "execution_count": 11,
     "metadata": {},
     "output_type": "execute_result"
    }
   ],
   "source": [
    "# Define the real and imaginary parts of the function\n",
    "u =x**3-3*x*y**2    \n",
    "v = 3*x**2*y-y**3\n",
    "\n",
    "# Calling the function\n",
    "analytic_2(u,v)"
   ]
  },
  {
   "cell_type": "markdown",
   "id": "55735dcf",
   "metadata": {},
   "source": [
    "To check $x^3 + 3xy^2 + i(3x^2y - y^3)$ is analytic or not "
   ]
  },
  {
   "cell_type": "code",
   "execution_count": 12,
   "id": "033624a5",
   "metadata": {},
   "outputs": [
    {
     "data": {
      "text/plain": [
       "(False, 12*x*y, 12*x*y)"
      ]
     },
     "execution_count": 12,
     "metadata": {},
     "output_type": "execute_result"
    }
   ],
   "source": [
    "# Define the real and imaginary parts of the function\n",
    "u =x**3+3*x*y**2    \n",
    "v = 3*x**2*y-y**3   \n",
    "\n",
    "# Calling the function\n",
    "analytic_2(u,v)"
   ]
  },
  {
   "cell_type": "markdown",
   "id": "46a901c1",
   "metadata": {},
   "source": [
    "## <font color = RED>Practice Question 4"
   ]
  },
  {
   "cell_type": "markdown",
   "id": "24778b9c",
   "metadata": {},
   "source": [
    "Write a Python function that takes a complex function as input and checks whether it is analytic or not."
   ]
  },
  {
   "cell_type": "markdown",
   "id": "4aa94e22",
   "metadata": {},
   "source": [
    "## <font color = blue> HARMONIC FUNCTIONS"
   ]
  },
  {
   "cell_type": "markdown",
   "id": "d22a030f",
   "metadata": {},
   "source": [
    "###  $u$ is harmonic if \n",
    "\n",
    "# $$ u_{xx} + u_{yy} = 0 $$"
   ]
  },
  {
   "cell_type": "markdown",
   "id": "904c4be1",
   "metadata": {},
   "source": [
    "## <font color = green> CODE \n",
    "\n",
    "#  For $\\frac{\\partial^2 u}{\\partial x^2}$ use \n",
    "    \n",
    "#    sympy.diff(u,x,x)"
   ]
  },
  {
   "cell_type": "markdown",
   "id": "4bc945fe",
   "metadata": {},
   "source": [
    "## <font color = RED>Practice Question 5\n",
    "    \n",
    "    Write a python function that takes a real function in variables x and y as input and check whether it is harmonic or not"
   ]
  },
  {
   "cell_type": "code",
   "execution_count": 11,
   "id": "8e04bb9e",
   "metadata": {},
   "outputs": [],
   "source": [
    "def harmonic(u):\n",
    "    \"\"\"This function takes a real function in x and y as input and check whether it is harmonic or not\"\"\"\n",
    "    u_xx = sp.diff(u,x,x)  # We already defined x and y as real numbers at the begining of this jupyter notebook file\n",
    "    u_yy = sp.diff(u,y,y)\n",
    "    \n",
    "    if u_xx+u_yy == 0:\n",
    "        print(\"The given function is harmonic\")\n",
    "    else:\n",
    "        print(\"The given  function is not harmonic\")"
   ]
  },
  {
   "cell_type": "code",
   "execution_count": 12,
   "id": "ed5d092d",
   "metadata": {},
   "outputs": [
    {
     "name": "stdout",
     "output_type": "stream",
     "text": [
      "The given function is harmonic\n"
     ]
    }
   ],
   "source": [
    "v= x*2 + y*2\n",
    "\n",
    "harmonic(v)"
   ]
  },
  {
   "cell_type": "code",
   "execution_count": 13,
   "id": "6868afe4",
   "metadata": {},
   "outputs": [
    {
     "name": "stdout",
     "output_type": "stream",
     "text": [
      "The given function is harmonic\n"
     ]
    }
   ],
   "source": [
    "u= x*3 + y*3\n",
    "\n",
    "harmonic(u)"
   ]
  },
  {
   "cell_type": "code",
   "execution_count": 14,
   "id": "648149a7",
   "metadata": {},
   "outputs": [
    {
     "name": "stdout",
     "output_type": "stream",
     "text": [
      "The given  function is not harmonic\n"
     ]
    }
   ],
   "source": [
    "u= sp.sin(x*y)\n",
    "\n",
    "harmonic(u)"
   ]
  },
  {
   "cell_type": "markdown",
   "id": "8c18b8a2",
   "metadata": {},
   "source": [
    "## <font color = blue> HARMONIC CONJUGATE"
   ]
  },
  {
   "cell_type": "markdown",
   "id": "ba0737a1",
   "metadata": {},
   "source": [
    "## <font color = GREEN> AIM\n",
    "    \n",
    "    To find harmonic conjugate of a given harmonic function"
   ]
  },
  {
   "cell_type": "markdown",
   "id": "c24c370d",
   "metadata": {},
   "source": [
    "## <font color = RED>Practice Question 6\n",
    "\n",
    "Write a python fuunction that takes a harmonic function as input and returns its harmonic conjugate"
   ]
  },
  {
   "cell_type": "code",
   "execution_count": 35,
   "id": "9c29c09b",
   "metadata": {},
   "outputs": [],
   "source": [
    "def harmonic_conjugate(u):\n",
    "    \"\"\"This function takes a harmonic function as input and returns its harmonic conjugate\"\"\"\n",
    "    \n",
    "    # v_y = u_x \n",
    "    v_y = sp.diff(u,x) # We already defined x and y as real numbers at the begining of this jupyter notebook file\n",
    "    \n",
    "    # Integrate v_y with respect to y\n",
    "    v_initial = sp.integrate(v_y,y)\n",
    "    \n",
    "    # The integrals may differ by a function of the other variable, so combine them\n",
    "    v =  v_initial + sp.Function('C1')(x)\n",
    "\n",
    "    \n",
    "    # return v\n",
    "    return v"
   ]
  },
  {
   "cell_type": "code",
   "execution_count": 36,
   "id": "71544e79",
   "metadata": {},
   "outputs": [
    {
     "data": {
      "text/latex": [
       "$\\displaystyle 2 y + C_{1}{\\left(x \\right)}$"
      ],
      "text/plain": [
       "2*y + C1(x)"
      ]
     },
     "execution_count": 36,
     "metadata": {},
     "output_type": "execute_result"
    }
   ],
   "source": [
    "v= x*2 + y*2\n",
    "\n",
    "harmonic_conjugate(v)"
   ]
  },
  {
   "cell_type": "code",
   "execution_count": 37,
   "id": "4097c745",
   "metadata": {},
   "outputs": [
    {
     "data": {
      "text/latex": [
       "$\\displaystyle \\frac{y^{2}}{2} + C_{1}{\\left(x \\right)}$"
      ],
      "text/plain": [
       "y**2/2 + C1(x)"
      ]
     },
     "execution_count": 37,
     "metadata": {},
     "output_type": "execute_result"
    }
   ],
   "source": [
    "v = x*y\n",
    "harmonic_conjugate(v)"
   ]
  },
  {
   "cell_type": "code",
   "execution_count": 38,
   "id": "09021242",
   "metadata": {
    "scrolled": true
   },
   "outputs": [
    {
     "data": {
      "text/latex": [
       "$\\displaystyle C_{1}{\\left(x \\right)} + \\begin{cases} \\frac{y \\sin{\\left(x y \\right)}}{x} + \\frac{\\cos{\\left(x y \\right)}}{x^{2}} & \\text{for}\\: x \\neq 0 \\\\\\frac{y^{2}}{2} & \\text{otherwise} \\end{cases}$"
      ],
      "text/plain": [
       "C1(x) + Piecewise((y*sin(x*y)/x + cos(x*y)/x**2, Ne(x, 0)), (y**2/2, True))"
      ]
     },
     "execution_count": 38,
     "metadata": {},
     "output_type": "execute_result"
    }
   ],
   "source": [
    "u= sp.sin(x*y)\n",
    "\n",
    "harmonic_conjugate(u)"
   ]
  },
  {
   "cell_type": "code",
   "execution_count": 39,
   "id": "812bc5f0",
   "metadata": {},
   "outputs": [
    {
     "data": {
      "text/latex": [
       "$\\displaystyle 3 x^{2} y + C_{1}{\\left(x \\right)}$"
      ],
      "text/plain": [
       "3*x**2*y + C1(x)"
      ]
     },
     "execution_count": 39,
     "metadata": {},
     "output_type": "execute_result"
    }
   ],
   "source": [
    "u = x**3 + y**3\n",
    "harmonic_conjugate(u)"
   ]
  },
  {
   "cell_type": "markdown",
   "id": "eb0dad3e",
   "metadata": {},
   "source": [
    "## <font color = RED>Practice Question 6\n",
    "\n",
    "Write a python fuunction that takes a function in x and y as input and returns its harmonic conjugate if it is harmonic."
   ]
  },
  {
   "cell_type": "code",
   "execution_count": 42,
   "id": "7ef13545",
   "metadata": {},
   "outputs": [],
   "source": [
    "def harmonic_and_conjugate(u):\n",
    "    \"\"\"This python function takes a function in x and y as input and then check it is harmonic or not. If \n",
    "    it is harmonic then it returns harmonic conjugate too\"\"\"\n",
    "    \n",
    "    if sp.diff(u,x,x) + sp.diff(u,y,y) == 0:\n",
    "        print(\"The given function is harmonic\")\n",
    "        # Steps to find harmonic conjugate\n",
    "        \n",
    "        \n",
    "        \n",
    "        \n",
    "        \n",
    "        \n",
    "        print(\"Harmonic conjuage is \")\n",
    "    else:\n",
    "        print(\" The given function is not harmonic\")"
   ]
  },
  {
   "cell_type": "code",
   "execution_count": 43,
   "id": "8442e6ed",
   "metadata": {},
   "outputs": [
    {
     "name": "stdout",
     "output_type": "stream",
     "text": [
      " The given function is not harmonic\n"
     ]
    }
   ],
   "source": [
    "u= sp.sin(x*y)\n",
    "\n",
    "harmonic_and_conjugate(u)"
   ]
  },
  {
   "cell_type": "code",
   "execution_count": 44,
   "id": "ba228a44",
   "metadata": {},
   "outputs": [
    {
     "name": "stdout",
     "output_type": "stream",
     "text": [
      "The given function is harmonic\n",
      "Harmonic conjuage is \n"
     ]
    }
   ],
   "source": [
    "v = x*y\n",
    "harmonic_and_conjugate(v)"
   ]
  },
  {
   "cell_type": "code",
   "execution_count": null,
   "id": "50b58745",
   "metadata": {},
   "outputs": [],
   "source": []
  }
 ],
 "metadata": {
  "kernelspec": {
   "display_name": "Python (semopy)",
   "language": "python",
   "name": "semopy-env"
  },
  "language_info": {
   "codemirror_mode": {
    "name": "ipython",
    "version": 3
   },
   "file_extension": ".py",
   "mimetype": "text/x-python",
   "name": "python",
   "nbconvert_exporter": "python",
   "pygments_lexer": "ipython3",
   "version": "3.11.1"
  }
 },
 "nbformat": 4,
 "nbformat_minor": 5
}
