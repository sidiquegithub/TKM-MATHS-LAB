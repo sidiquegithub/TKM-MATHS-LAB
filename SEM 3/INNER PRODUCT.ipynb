{
 "cells": [
  {
   "cell_type": "code",
   "execution_count": 1,
   "id": "1b33d3ad",
   "metadata": {},
   "outputs": [],
   "source": [
    "import sympy as sp\n",
    "import numpy as np"
   ]
  },
  {
   "cell_type": "markdown",
   "id": "f06cd94d",
   "metadata": {},
   "source": [
    "# <font color = blue> INNER PRODUCT\n",
    "\n",
    "## The inner product ⟨⋅,⋅⟩ is a function that takes two vectors as input and produces either a real number or a complex number as output.\n",
    "\n",
    "\n",
    "\n",
    "### <font color = darkgreen> EXAMPLE 1\n",
    "\n",
    "Consider $C$. Let two vectors be $1+i$ and $3-7i$ , then \n",
    "$$ <1+i,3-7i> = -4 -10i $$\n",
    "\n",
    "\n",
    "If we take $1+2i$ and $1+2i$, then \n",
    "\n",
    "$$< 1+2i,1+2i > = 5 $$\n",
    "\n",
    "\n",
    "### <font color = darkgreen> EXAMPLE 2\n",
    "\n",
    "Consider $R^2$. Let two vectors be $(1,4)$ and $(-9,6)$, then\n",
    "\n",
    "$$<(1,4),(-9,6)> = 15$$\n",
    "\n",
    "\n",
    "### <font color = darkgreen>  EXAMPLE 3\n",
    "\n",
    "Consider $C^2$. Consider two vectors $(2+3i, 5-i)$ and $(-3+i , 7-6i)$ , then \n",
    "\n",
    "$$ <(2+3i, 5-i),(-3+i , 7-6i)> = 38 -12i$$\n",
    "\n"
   ]
  },
  {
   "cell_type": "markdown",
   "id": "45e1f422",
   "metadata": {},
   "source": [
    "-----\n",
    "-----\n",
    "----"
   ]
  },
  {
   "cell_type": "markdown",
   "id": "99b8c8d0",
   "metadata": {},
   "source": [
    "# <font color = blue> CODE"
   ]
  },
  {
   "cell_type": "markdown",
   "id": "538d0f27",
   "metadata": {},
   "source": [
    "$x$, $y$ be two vectors. To find $<x,y>$ use\n",
    "\n",
    "# $$ SymPy : x.dot(y)$$ \n",
    "\n",
    "# $$ NumPy : np.dot(x,y)$$      \n",
    "#  $$ np.vdot(x,y)  $$"
   ]
  },
  {
   "cell_type": "markdown",
   "id": "64bdb1eb",
   "metadata": {},
   "source": [
    "## <font color = blue> Formula For Inner Product On $R^2$\n",
    "Let $(u_1,u_2)$ and  $(v_1,v_2)$ be two vectors in $R^2$, then $$ <(u_1,u_2), (v_1,v_2)> = u_1v_1 + u_2v_2 $$ "
   ]
  },
  {
   "cell_type": "markdown",
   "id": "4c3fc343",
   "metadata": {},
   "source": [
    "## <font color = blue> Inner product on $R^3$\n",
    "\n",
    "$U = (u_1,u_2,u_3)$ and $V = (v_1,v_2,v_3$, then \n",
    "\n",
    "$$ <U,V> = u_1v_1 + u_2v_2 + u_3v_3$$"
   ]
  },
  {
   "cell_type": "markdown",
   "id": "7a16e937",
   "metadata": {},
   "source": [
    "So, \n",
    "$$ <(1,2,3) , (4,5,6)> = 1*4  + 2*5 + 3*6  = 32 $$"
   ]
  },
  {
   "cell_type": "markdown",
   "id": "42ee65ae",
   "metadata": {},
   "source": [
    "<font color = DarkGreen>Question :\n",
    "\n",
    "Using SymPy find the inner product of [1,6,45] with [25,63,0] "
   ]
  },
  {
   "cell_type": "code",
   "execution_count": 2,
   "id": "88231cfe",
   "metadata": {},
   "outputs": [
    {
     "data": {
      "text/latex": [
       "$\\displaystyle 403$"
      ],
      "text/plain": [
       "403"
      ]
     },
     "execution_count": 2,
     "metadata": {},
     "output_type": "execute_result"
    }
   ],
   "source": [
    "# Answer\n",
    "\n",
    "# Define the numerical vectors\n",
    "x = sp.Matrix([1,6,45])\n",
    "y = sp.Matrix([25,63,0])\n",
    "\n",
    "# Standard Euclidean Inner Product\n",
    "euclidean_inner_product = x.dot(y)\n",
    "euclidean_inner_product "
   ]
  },
  {
   "cell_type": "markdown",
   "id": "d13f787b",
   "metadata": {},
   "source": [
    "<font color = blue> Question : \n",
    "    \n",
    "Using NumPy find the inner product of [1,6,45] with [4,5,6] "
   ]
  },
  {
   "cell_type": "code",
   "execution_count": 3,
   "id": "58de82a2",
   "metadata": {},
   "outputs": [
    {
     "name": "stdout",
     "output_type": "stream",
     "text": [
      "[304]\n"
     ]
    }
   ],
   "source": [
    "# Answer \n",
    "u = np.array([[1,6,45]])\n",
    "v = np.array([4, 5, 6])\n",
    "print(np.dot(u,v))"
   ]
  },
  {
   "cell_type": "markdown",
   "id": "ecc7c710",
   "metadata": {},
   "source": [
    "## <font color = RED>Practice Question 1"
   ]
  },
  {
   "cell_type": "markdown",
   "id": "121bd54e",
   "metadata": {},
   "source": [
    "Find the inner product between [0,89,-345] and [78,-23,890] using SymPy and NumPy separately"
   ]
  },
  {
   "cell_type": "markdown",
   "id": "1671859a",
   "metadata": {},
   "source": [
    "Final Answer: −309097"
   ]
  },
  {
   "cell_type": "markdown",
   "id": "08da96c8",
   "metadata": {},
   "source": [
    "--------------\n",
    "--------------"
   ]
  },
  {
   "cell_type": "markdown",
   "id": "caff42c2",
   "metadata": {},
   "source": [
    "### How to compute the dot product of two vectors in $R^3$ symbolically using SymPy, and how to substitute specific values into this symbolic expression to evaluate the result?"
   ]
  },
  {
   "cell_type": "code",
   "execution_count": 4,
   "id": "dde9f3c0",
   "metadata": {},
   "outputs": [],
   "source": [
    "# Define the symbols for generality\n",
    "u1, u2, u3, v1, v2, v3 = sp.symbols('u1 u2 u3 v1 v2 v3')"
   ]
  },
  {
   "cell_type": "code",
   "execution_count": 5,
   "id": "3518ec24",
   "metadata": {},
   "outputs": [],
   "source": [
    "# Define the vectors\n",
    "u = sp.Matrix([u1, u2, u3])\n",
    "v = sp.Matrix([v1, v2, v3])"
   ]
  },
  {
   "cell_type": "code",
   "execution_count": 6,
   "id": "a492abab",
   "metadata": {},
   "outputs": [
    {
     "data": {
      "text/latex": [
       "$\\displaystyle u_{1} v_{1} + u_{2} v_{2} + u_{3} v_{3}$"
      ],
      "text/plain": [
       "u1*v1 + u2*v2 + u3*v3"
      ]
     },
     "execution_count": 6,
     "metadata": {},
     "output_type": "execute_result"
    }
   ],
   "source": [
    "# Compute the dot product\n",
    "dot_product = u.dot(v)\n",
    "# Display the result\n",
    "dot_product"
   ]
  },
  {
   "cell_type": "code",
   "execution_count": 7,
   "id": "df8ef12b",
   "metadata": {},
   "outputs": [
    {
     "data": {
      "text/latex": [
       "$\\displaystyle 2744$"
      ],
      "text/plain": [
       "2744"
      ]
     },
     "execution_count": 7,
     "metadata": {},
     "output_type": "execute_result"
    }
   ],
   "source": [
    "# Use substitution to find the dot product between [1,6,45] and [14,5,60].\n",
    "# Substitute specific values for u and v\n",
    "dot_product_val = dot_product.subs({u1: 1, u2: 6, u3: 45, v1: 14, v2: 5, v3: 60})\n",
    "# Display the result\n",
    "dot_product_val"
   ]
  },
  {
   "cell_type": "markdown",
   "id": "8e390647",
   "metadata": {},
   "source": [
    "## <font color = RED> Practice Question 2\n",
    "\n",
    "Using SymPy compute inner product of two vectors in $R^4$ symbolically. Then, using substitution, find inner product between [890,890,1234,-6789] and [-9856,4567,890,127890]"
   ]
  },
  {
   "cell_type": "markdown",
   "id": "3aa81ad6",
   "metadata": {},
   "source": [
    "Final Answer 2 : \n",
    "\n",
    "Symbolic Form : $u_1v_1+u_2v_2+u_3v_3+u_4v_4$  \n",
    "\n",
    "\n",
    "Dot Product : −871854160"
   ]
  },
  {
   "cell_type": "markdown",
   "id": "3fa3dab4",
   "metadata": {},
   "source": [
    "-------\n",
    "-------\n",
    "-------\n",
    "-----"
   ]
  },
  {
   "cell_type": "markdown",
   "id": "412b040c",
   "metadata": {},
   "source": [
    "## <font color = blue> Inner Product on Complex Plane $C$"
   ]
  },
  {
   "cell_type": "markdown",
   "id": "0bc5cb6b",
   "metadata": {},
   "source": [
    "$z_1$ and $z_2$ be two complex numbers, then \n",
    "\n",
    "# $$ <z_1, z_2> = \\bar{z_1}*z_2$$\n",
    "\n",
    "# EXAMPLE : $z_1 = 3 + 2i$ and $z_2 = 1-4i$\n",
    "\n",
    "##  $$ <z_1, z_2> = (3 - 2i) * (1-4i) $$ \n",
    "## $$    = 3 - 12i -2i + 8i^2 $$ \n",
    "## $$ = 3 - 14i - 8$$\n",
    "## $$ = -5 -14i$$ "
   ]
  },
  {
   "cell_type": "markdown",
   "id": "b54dc91a",
   "metadata": {},
   "source": [
    "<font color = blue> Question : \n",
    "    \n",
    "Using SymPy find the inner product of $3+2i$ with $1-4j$"
   ]
  },
  {
   "cell_type": "code",
   "execution_count": 8,
   "id": "a770a53b",
   "metadata": {},
   "outputs": [
    {
     "name": "stdout",
     "output_type": "stream",
     "text": [
      "(-5-14j)\n"
     ]
    }
   ],
   "source": [
    "vector1 = np.array([3+2j])\n",
    "vector2 = np.array([1 - 4j])\n",
    "inner_product = np.vdot(vector1, vector2)\n",
    "print(inner_product)"
   ]
  },
  {
   "cell_type": "markdown",
   "id": "2df0211c",
   "metadata": {},
   "source": [
    "## <font color = RED> Practice Question 3\n",
    "    \n",
    "Using SymPy Find $<v_1,v_2>$ and $<v_2,v_1>$ for each of the following pairs of vectors, and check commutativity of inner product function\n",
    "    \n",
    "i) $v_1 = 1+8i$ and $v_2 = -5-7i$\n",
    "    \n",
    "ii) $v_1 = -4-6i$ and $v_2 = 8 + 9i$"
   ]
  },
  {
   "cell_type": "markdown",
   "id": "dba1bdc5",
   "metadata": {},
   "source": [
    "## <font color = blue> Inner Product on  $C^2$"
   ]
  },
  {
   "cell_type": "code",
   "execution_count": 9,
   "id": "81aec8aa",
   "metadata": {},
   "outputs": [
    {
     "name": "stdout",
     "output_type": "stream",
     "text": [
      "(5-5j)\n"
     ]
    }
   ],
   "source": [
    "vector1 = np.array([1 + 2j, 3 - 1j])\n",
    "vector2 = np.array([4 - 2j, 2 + 1j])\n",
    "inner_product = np.vdot(vector1, vector2)\n",
    "print(inner_product)\n"
   ]
  },
  {
   "cell_type": "code",
   "execution_count": 10,
   "id": "de0c051a",
   "metadata": {},
   "outputs": [
    {
     "name": "stdout",
     "output_type": "stream",
     "text": [
      "(38-12j)\n"
     ]
    }
   ],
   "source": [
    "vector1 = np.array([2 + 3j, 5 - 1j])\n",
    "vector2 = np.array([-3 + 1j , 7 - 6j])\n",
    "inner_product = np.vdot(vector1, vector2)\n",
    "print(inner_product)"
   ]
  },
  {
   "cell_type": "code",
   "execution_count": null,
   "id": "87389b5a",
   "metadata": {},
   "outputs": [],
   "source": []
  },
  {
   "cell_type": "code",
   "execution_count": null,
   "id": "b15c22e6",
   "metadata": {},
   "outputs": [],
   "source": []
  }
 ],
 "metadata": {
  "kernelspec": {
   "display_name": "Python 3 (ipykernel)",
   "language": "python",
   "name": "python3"
  },
  "language_info": {
   "codemirror_mode": {
    "name": "ipython",
    "version": 3
   },
   "file_extension": ".py",
   "mimetype": "text/x-python",
   "name": "python",
   "nbconvert_exporter": "python",
   "pygments_lexer": "ipython3",
   "version": "3.7.15"
  }
 },
 "nbformat": 4,
 "nbformat_minor": 5
}
